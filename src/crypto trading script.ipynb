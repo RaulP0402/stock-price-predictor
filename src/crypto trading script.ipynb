{
 "cells": [
  {
   "cell_type": "code",
   "execution_count": 62,
   "id": "4dbc239d",
   "metadata": {},
   "outputs": [],
   "source": [
    "import pandas as pd\n",
    "import yfinance as yf\n",
    "import webull as wb\n",
    "import pandas_ta as ta\n",
    "import numpy as np\n"
   ]
  },
  {
   "cell_type": "code",
   "execution_count": 63,
   "id": "45c13240",
   "metadata": {},
   "outputs": [],
   "source": [
    "# Log into WeBull\n",
    "\n",
    "email = \"raullopez0402@gmail.com\"\n",
    "password = \"Gordo2002!\"\n",
    "\n",
    "account = wb.paper_webull()\n",
    "account.login(email, 'Gordo2002!', \"RaulMacBook\", save_token=True)\n",
    "account._access_token = \"dc_us_tech1.18cc25ea7d3-aec8be68996b4fe4a446058eb220b63f\"\n"
   ]
  },
  {
   "cell_type": "code",
   "execution_count": 64,
   "id": "41a004b6",
   "metadata": {},
   "outputs": [],
   "source": [
    "# Check to see if I am logged in\n",
    "# account.is_logged_in()"
   ]
  },
  {
   "cell_type": "code",
   "execution_count": 65,
   "id": "7396c633",
   "metadata": {},
   "outputs": [],
   "source": [
    "# Get Top Cryptos\n",
    "num_currencies = 1000\n",
    "crypto_currencies = pd.read_html(f'https://finance.yahoo.com/crypto?offset=0&count={num_currencies}')"
   ]
  },
  {
   "cell_type": "code",
   "execution_count": 66,
   "id": "604d3654",
   "metadata": {},
   "outputs": [],
   "source": [
    "# crypto_currencies"
   ]
  },
  {
   "cell_type": "code",
   "execution_count": 67,
   "id": "da7907b8",
   "metadata": {},
   "outputs": [],
   "source": [
    "# Lets Cache the name of the Cryptos \n",
    "symbols = list(crypto_currencies[0]['Symbol'])\n",
    "\n",
    "crypto_dict = {}\n",
    "\n",
    "for crypto in symbols:\n",
    "    # Split name i.e (\"BTC-USD\") -> (\"BTCUSD\")\n",
    "    name, curr = crypto.split(\"-\") \n",
    "    stock = name + curr\n",
    "    \n",
    "    # See if information is retreivable, if not skip this  \n",
    "    try:\n",
    "        df = account.get_bars_crypto(stock=f'{stock}', interval='m5', count=322, extendTrading=0, timeStamp=None)\n",
    "    except:\n",
    "        continue\n",
    "    crypto_dict[stock] = None # Temp"
   ]
  },
  {
   "cell_type": "code",
   "execution_count": 68,
   "id": "667a2ce4",
   "metadata": {},
   "outputs": [],
   "source": [
    "# crypto_dict"
   ]
  },
  {
   "cell_type": "code",
   "execution_count": 69,
   "id": "d49bf4b8",
   "metadata": {},
   "outputs": [],
   "source": [
    "from collections import OrderedDict\n",
    "# Lets create out portfolio\n",
    "class Portfolio:\n",
    "    def __init__(self):\n",
    "        self.balance = 1000000 # Keeps track of our balance\n",
    "        self.orders = OrderedDict() # Keeps track of our trades \n",
    "        "
   ]
  },
  {
   "cell_type": "code",
   "execution_count": 70,
   "id": "1d8283e4",
   "metadata": {},
   "outputs": [],
   "source": [
    "# initiate portfolio\n",
    "portfolio = Portfolio()"
   ]
  },
  {
   "cell_type": "code",
   "execution_count": 71,
   "id": "36de837c",
   "metadata": {},
   "outputs": [],
   "source": [
    "# # Create orderbook\n",
    "# class OrderBook:\n",
    "#     def __init__(self):\n",
    "#         self.book = {}"
   ]
  },
  {
   "cell_type": "code",
   "execution_count": 72,
   "id": "b9bc3f30",
   "metadata": {},
   "outputs": [],
   "source": [
    "# # Initiate orderbook\n",
    "# orderBook = OrderBook()"
   ]
  },
  {
   "cell_type": "code",
   "execution_count": 73,
   "id": "c8597a08",
   "metadata": {},
   "outputs": [],
   "source": [
    "# Order class\n",
    "class Order:\n",
    "    def __init__(self, stock, amount, entry, TP, SL):\n",
    "        self.stock = stock\n",
    "        self.amount = amount\n",
    "        self.entry = entry\n",
    "        self.take_profit = TP\n",
    "        self.stop_loss = SL\n",
    "        "
   ]
  },
  {
   "cell_type": "code",
   "execution_count": 74,
   "id": "7911a167",
   "metadata": {},
   "outputs": [],
   "source": [
    "# for crypto in crypto_dict.keys():\n",
    "#         data = account.get_bars_crypto(stock=f'{crypto}', interval='m1', count=10, extendTrading=0, timeStamp=None)\n",
    "#         print(data)"
   ]
  },
  {
   "cell_type": "code",
   "execution_count": 75,
   "id": "89e258e9",
   "metadata": {},
   "outputs": [],
   "source": [
    "# Create a job that checks updates orderBook \n",
    "def update_orderBook():\n",
    "    for crypto in crypto_dict.keys():\n",
    "        data = account.get_bars_crypto(stock=f'{crypto}', interval='m1', count=322, extendTrading=0, timeStamp=None)\n",
    "        \n",
    "        crypto_dict[crypto] = data\n",
    "    "
   ]
  },
  {
   "cell_type": "code",
   "execution_count": 76,
   "id": "036de754",
   "metadata": {},
   "outputs": [],
   "source": [
    "import joblib\n",
    "\n",
    "#load the model from disk\n",
    "loaded_model = joblib.load('myCryptoModel.sav')"
   ]
  },
  {
   "cell_type": "code",
   "execution_count": 77,
   "id": "ae82436f",
   "metadata": {},
   "outputs": [],
   "source": [
    "from datetime import datetime\n",
    "\n",
    "def findBuys():\n",
    "    time = datetime.now().strftime('%Y-%m-%d %H:%M:%S')\n",
    "    print(time)\n",
    "    for crypto in crypto_dict.keys():\n",
    "        df = crypto_dict[crypto]\n",
    "        \n",
    "        if df == None or df.empty:\n",
    "            continue\n",
    "        \n",
    "        high = list(df['high'])\n",
    "        low = list(df[\"low\"])\n",
    "        close = list(df[\"close\"])\n",
    "        open = list(df[\"open\"])\n",
    "        volume = list(df[\"volume\"])\n",
    "        \n",
    "        dfstream = pd.DataFrame(columns=['Volume','Open','Close','High','Low'])\n",
    "        \n",
    "        for i in range(len(df)):\n",
    "            dfstream.loc[i, ['Volume']] = float(str(volume[i]))\n",
    "            dfstream.loc[i, ['Open']] = float(str(open[i]))\n",
    "            dfstream.loc[i, ['Close']] = float(str(close[i]))\n",
    "            dfstream.loc[i, ['High']] = float(str(high[i]))\n",
    "            dfstream.loc[i, ['Low']] = float(str(low[i]))\n",
    "            i=i+1\n",
    "            \n",
    "        dfstream['Volume'] = dfstream['Volume'].astype(float)\n",
    "        dfstream['Open'] = dfstream['Open'].astype(float)\n",
    "        dfstream['Close'] = dfstream['Close'].astype(float)\n",
    "        dfstream['High'] = dfstream['High'].astype(float)\n",
    "        dfstream['Low'] = dfstream['Low'].astype(float)\n",
    "\n",
    "        dfstream['ATR'] = dfstream.ta.atr(length=20)\n",
    "        dfstream['RSI'] = dfstream.ta.rsi()\n",
    "        dfstream['Average'] = (dfstream['High']+dfstream['Low'])/2\n",
    "        dfstream['MA40'] = dfstream['Open'].rolling(window=40).mean()\n",
    "        dfstream['MA80'] = dfstream['Open'].rolling(window=80).mean()\n",
    "        dfstream['MA160'] = dfstream['Open'].rolling(window=160).mean()\n",
    "        \n",
    "        backrollingN = 5\n",
    "\n",
    "        dfstream['MA40Slope'] = dfstream['MA40'].rolling(window = backrollingN).apply(get_slope, raw=True)\n",
    "        dfstream['MA80Slope'] = dfstream['MA80'].rolling(window = backrollingN).apply(get_slope, raw=True)\n",
    "        dfstream['MA160Slope'] = dfstream['MA160'].rolling(window = backrollingN).apply(get_slope, raw=True)\n",
    "        dfstream['AverageSlope'] = dfstream['Average'].rolling(window = backrollingN).apply(get_slope, raw=True)\n",
    "        dfstream['RSISlope'] = dfstream['RSI'].rolling(window = backrollingN).apply(get_slope, raw=True)\n",
    "\n",
    "        X_stream = dfstream.iloc[[-1]]\n",
    "\n",
    "        attributes=['Volume', 'ATR', 'RSI', 'Average', 'MA40', 'MA80', 'MA160', 'MA40Slope', 'MA80Slope', 'MA160Slope', 'AverageSlope', 'RSISlope']\n",
    "        X_model = X_stream[attributes]\n",
    "        \n",
    "        # Apply the model for predictions\n",
    "        ModelPrediction = loaded_model.predict(X_model)\n",
    "        \n",
    "        TPbuy = float(close[i -1]) * 1.03\n",
    "        SLbuy = float(close[i -1]) * 0.99\n",
    "        TPSell = float(close[i -1]) * 0.97\n",
    "        SLSell = float(close[i -1]) * 1.01\n",
    "        \n",
    "        if ModelPrediction == 1:\n",
    "            print(\"Sell\")\n",
    "            trade_amount = portfolio.balance * 0.01\n",
    "            quantity = trade_amount // close[i -1]\n",
    "            \n",
    "            portfolio.orders[time] = Order(crypto, quantity, close[-1], TPSell, SLSell)\n",
    "            portfolio.balance -= quantity * close[i -1]\n",
    "            \n",
    "            print(f'Sold {quantity} shares of {crypto}, your balance now is {portfolio.balance}.')\n",
    "        \n",
    "        elif ModelPrediction == 2:\n",
    "            trade_amount = portfolio.balance * 0.01\n",
    "            quantity = trade_amount // close[i -1]\n",
    "            \n",
    "            portfolio.orders[time] = Order(crypto, quantity, close[-1], TPBuy, SLBuy)\n",
    "            portfolio.balance -= quantity * close[i -1]\n",
    "            \n",
    "            print(f'Bought {quantity} shares of {crypto}, your balance now is {portfolio.balance}.')"
   ]
  },
  {
   "cell_type": "code",
   "execution_count": 78,
   "id": "39367331",
   "metadata": {},
   "outputs": [],
   "source": [
    "# for _ in portfolio.orders.keys():\n",
    "#     order = portfolio.orders[_]\n",
    "        \n",
    "#     print(order.stock)\n",
    "    \n",
    "#     df = crypto_dict[order.stock]\n",
    "    \n",
    "#     print(df['close'][])\n",
    "    \n",
    "# #     if df[-1] < 1:\n",
    "# #         print(\"hit\")"
   ]
  },
  {
   "cell_type": "code",
   "execution_count": 79,
   "id": "37891fd0",
   "metadata": {},
   "outputs": [],
   "source": [
    "from collections import OrderedDict\n",
    "\n",
    "# Function looks over our portfolio to see if we can sell anything\n",
    "def findSells():\n",
    "    temp = OrderedDict()\n",
    "    \n",
    "    for _ in portfolio.orders.keys():\n",
    "        order = portfolio.orders[_]\n",
    "\n",
    "        df = crypto_dict[order.stock]\n",
    "        \n",
    "        # We either reached our Stop Loss or Take Profit mark\n",
    "        if df['close'][-1] >= order.take_profit or df['close'][-1] < order.stop_loss:\n",
    "            entry_amount = order.amount * order.entry\n",
    "            PnL = df['close'][-1] * order.amount # Find the money we made or lost\n",
    "            portfolio.balance += PnL # Update Balance\n",
    "            print(f'Made {PnL - entry_amount} dollars on the {order.stock} trade. Our balance now is {portfolio.balance}')\n",
    "        \n",
    "        else:\n",
    "            \n",
    "            temp[_] = order\n",
    "        \n",
    "    portfolio.orders = temp"
   ]
  },
  {
   "cell_type": "code",
   "execution_count": 80,
   "id": "341fe9bd",
   "metadata": {},
   "outputs": [],
   "source": [
    "from scipy.stats import linregress\n",
    "\n",
    "def get_slope(array):\n",
    "    y = np.array(array)\n",
    "    x = np.arange(len(y))\n",
    "    slope, intercept, r_value, p_value, std_error = linregress(x, y)\n",
    "    return slope"
   ]
  },
  {
   "cell_type": "code",
   "execution_count": 81,
   "id": "506314e3",
   "metadata": {},
   "outputs": [
    {
     "name": "stdout",
     "output_type": "stream",
     "text": [
      "2023-12-31 21:14:41\n"
     ]
    },
    {
     "ename": "AttributeError",
     "evalue": "'NoneType' object has no attribute 'empty'",
     "output_type": "error",
     "traceback": [
      "\u001b[0;31m---------------------------------------------------------------------------\u001b[0m",
      "\u001b[0;31mAttributeError\u001b[0m                            Traceback (most recent call last)",
      "Input \u001b[0;32mIn [81]\u001b[0m, in \u001b[0;36m<cell line: 10>\u001b[0;34m()\u001b[0m\n\u001b[1;32m      9\u001b[0m \u001b[38;5;66;03m# Run the scheduled tasks forever\u001b[39;00m\n\u001b[1;32m     10\u001b[0m \u001b[38;5;28;01mwhile\u001b[39;00m \u001b[38;5;28;01mTrue\u001b[39;00m:\n\u001b[0;32m---> 11\u001b[0m     \u001b[43mschedule\u001b[49m\u001b[38;5;241;43m.\u001b[39;49m\u001b[43mrun_pending\u001b[49m\u001b[43m(\u001b[49m\u001b[43m)\u001b[49m\n\u001b[1;32m     12\u001b[0m     time\u001b[38;5;241m.\u001b[39msleep(\u001b[38;5;241m1\u001b[39m)\n",
      "File \u001b[0;32m/Library/Frameworks/Python.framework/Versions/3.10/lib/python3.10/site-packages/schedule/__init__.py:822\u001b[0m, in \u001b[0;36mrun_pending\u001b[0;34m()\u001b[0m\n\u001b[1;32m    818\u001b[0m \u001b[38;5;28;01mdef\u001b[39;00m \u001b[38;5;21mrun_pending\u001b[39m() \u001b[38;5;241m-\u001b[39m\u001b[38;5;241m>\u001b[39m \u001b[38;5;28;01mNone\u001b[39;00m:\n\u001b[1;32m    819\u001b[0m     \u001b[38;5;124;03m\"\"\"Calls :meth:`run_pending <Scheduler.run_pending>` on the\u001b[39;00m\n\u001b[1;32m    820\u001b[0m \u001b[38;5;124;03m    :data:`default scheduler instance <default_scheduler>`.\u001b[39;00m\n\u001b[1;32m    821\u001b[0m \u001b[38;5;124;03m    \"\"\"\u001b[39;00m\n\u001b[0;32m--> 822\u001b[0m     \u001b[43mdefault_scheduler\u001b[49m\u001b[38;5;241;43m.\u001b[39;49m\u001b[43mrun_pending\u001b[49m\u001b[43m(\u001b[49m\u001b[43m)\u001b[49m\n",
      "File \u001b[0;32m/Library/Frameworks/Python.framework/Versions/3.10/lib/python3.10/site-packages/schedule/__init__.py:100\u001b[0m, in \u001b[0;36mScheduler.run_pending\u001b[0;34m(self)\u001b[0m\n\u001b[1;32m     98\u001b[0m runnable_jobs \u001b[38;5;241m=\u001b[39m (job \u001b[38;5;28;01mfor\u001b[39;00m job \u001b[38;5;129;01min\u001b[39;00m \u001b[38;5;28mself\u001b[39m\u001b[38;5;241m.\u001b[39mjobs \u001b[38;5;28;01mif\u001b[39;00m job\u001b[38;5;241m.\u001b[39mshould_run)\n\u001b[1;32m     99\u001b[0m \u001b[38;5;28;01mfor\u001b[39;00m job \u001b[38;5;129;01min\u001b[39;00m \u001b[38;5;28msorted\u001b[39m(runnable_jobs):\n\u001b[0;32m--> 100\u001b[0m     \u001b[38;5;28;43mself\u001b[39;49m\u001b[38;5;241;43m.\u001b[39;49m\u001b[43m_run_job\u001b[49m\u001b[43m(\u001b[49m\u001b[43mjob\u001b[49m\u001b[43m)\u001b[49m\n",
      "File \u001b[0;32m/Library/Frameworks/Python.framework/Versions/3.10/lib/python3.10/site-packages/schedule/__init__.py:172\u001b[0m, in \u001b[0;36mScheduler._run_job\u001b[0;34m(self, job)\u001b[0m\n\u001b[1;32m    171\u001b[0m \u001b[38;5;28;01mdef\u001b[39;00m \u001b[38;5;21m_run_job\u001b[39m(\u001b[38;5;28mself\u001b[39m, job: \u001b[38;5;124m\"\u001b[39m\u001b[38;5;124mJob\u001b[39m\u001b[38;5;124m\"\u001b[39m) \u001b[38;5;241m-\u001b[39m\u001b[38;5;241m>\u001b[39m \u001b[38;5;28;01mNone\u001b[39;00m:\n\u001b[0;32m--> 172\u001b[0m     ret \u001b[38;5;241m=\u001b[39m \u001b[43mjob\u001b[49m\u001b[38;5;241;43m.\u001b[39;49m\u001b[43mrun\u001b[49m\u001b[43m(\u001b[49m\u001b[43m)\u001b[49m\n\u001b[1;32m    173\u001b[0m     \u001b[38;5;28;01mif\u001b[39;00m \u001b[38;5;28misinstance\u001b[39m(ret, CancelJob) \u001b[38;5;129;01mor\u001b[39;00m ret \u001b[38;5;129;01mis\u001b[39;00m CancelJob:\n\u001b[1;32m    174\u001b[0m         \u001b[38;5;28mself\u001b[39m\u001b[38;5;241m.\u001b[39mcancel_job(job)\n",
      "File \u001b[0;32m/Library/Frameworks/Python.framework/Versions/3.10/lib/python3.10/site-packages/schedule/__init__.py:693\u001b[0m, in \u001b[0;36mJob.run\u001b[0;34m(self)\u001b[0m\n\u001b[1;32m    690\u001b[0m     \u001b[38;5;28;01mreturn\u001b[39;00m CancelJob\n\u001b[1;32m    692\u001b[0m logger\u001b[38;5;241m.\u001b[39mdebug(\u001b[38;5;124m\"\u001b[39m\u001b[38;5;124mRunning job \u001b[39m\u001b[38;5;132;01m%s\u001b[39;00m\u001b[38;5;124m\"\u001b[39m, \u001b[38;5;28mself\u001b[39m)\n\u001b[0;32m--> 693\u001b[0m ret \u001b[38;5;241m=\u001b[39m \u001b[38;5;28;43mself\u001b[39;49m\u001b[38;5;241;43m.\u001b[39;49m\u001b[43mjob_func\u001b[49m\u001b[43m(\u001b[49m\u001b[43m)\u001b[49m\n\u001b[1;32m    694\u001b[0m \u001b[38;5;28mself\u001b[39m\u001b[38;5;241m.\u001b[39mlast_run \u001b[38;5;241m=\u001b[39m datetime\u001b[38;5;241m.\u001b[39mdatetime\u001b[38;5;241m.\u001b[39mnow()\n\u001b[1;32m    695\u001b[0m \u001b[38;5;28mself\u001b[39m\u001b[38;5;241m.\u001b[39m_schedule_next_run()\n",
      "Input \u001b[0;32mIn [22]\u001b[0m, in \u001b[0;36mfindBuys\u001b[0;34m()\u001b[0m\n\u001b[1;32m      6\u001b[0m \u001b[38;5;28;01mfor\u001b[39;00m crypto \u001b[38;5;129;01min\u001b[39;00m crypto_dict\u001b[38;5;241m.\u001b[39mkeys():\n\u001b[1;32m      7\u001b[0m     df \u001b[38;5;241m=\u001b[39m crypto_dict[crypto]\n\u001b[0;32m----> 9\u001b[0m     \u001b[38;5;28;01mif\u001b[39;00m \u001b[43mdf\u001b[49m\u001b[38;5;241;43m.\u001b[39;49m\u001b[43mempty\u001b[49m:\n\u001b[1;32m     10\u001b[0m         \u001b[38;5;28;01mcontinue\u001b[39;00m\n\u001b[1;32m     12\u001b[0m     high \u001b[38;5;241m=\u001b[39m \u001b[38;5;28mlist\u001b[39m(df[\u001b[38;5;124m'\u001b[39m\u001b[38;5;124mhigh\u001b[39m\u001b[38;5;124m'\u001b[39m])\n",
      "\u001b[0;31mAttributeError\u001b[0m: 'NoneType' object has no attribute 'empty'"
     ]
    }
   ],
   "source": [
    "import schedule\n",
    "import time\n",
    "\n",
    "# Define the schedule\n",
    "schedule.every(15).seconds.do(update_orderBook)\n",
    "schedule.every(15).seconds.do(findBuys)\n",
    "schedule.every(61).seconds.do(findSells)\n",
    "\n",
    "# Run the scheduled tasks forever\n",
    "while True:\n",
    "    schedule.run_pending()\n",
    "    time.sleep(1)  # Sleep for 1 second to avoid excessive CPU usage"
   ]
  },
  {
   "cell_type": "code",
   "execution_count": null,
   "id": "7da5ae7a",
   "metadata": {},
   "outputs": [],
   "source": [
    "print('hello')"
   ]
  },
  {
   "cell_type": "code",
   "execution_count": null,
   "id": "cddd2fed",
   "metadata": {},
   "outputs": [],
   "source": []
  }
 ],
 "metadata": {
  "kernelspec": {
   "display_name": "Python 3 (ipykernel)",
   "language": "python",
   "name": "python3"
  },
  "language_info": {
   "codemirror_mode": {
    "name": "ipython",
    "version": 3
   },
   "file_extension": ".py",
   "mimetype": "text/x-python",
   "name": "python",
   "nbconvert_exporter": "python",
   "pygments_lexer": "ipython3",
   "version": "3.10.5"
  }
 },
 "nbformat": 4,
 "nbformat_minor": 5
}
