{
 "cells": [
  {
   "cell_type": "code",
   "execution_count": 3,
   "id": "1aea1d0a-171b-4f6b-a34d-eb01d0bbe8ca",
   "metadata": {},
   "outputs": [],
   "source": [
    "# pip install yfinance"
   ]
  },
  {
   "cell_type": "code",
   "execution_count": 4,
   "id": "b3644f68",
   "metadata": {},
   "outputs": [],
   "source": [
    "import yfinance as yf\n",
    "import pandas as pd"
   ]
  },
  {
   "cell_type": "code",
   "execution_count": 7,
   "id": "7aea78b6-10a2-4ea7-abba-ade25ac8dcff",
   "metadata": {},
   "outputs": [],
   "source": [
    "# pip install webull"
   ]
  },
  {
   "cell_type": "code",
   "execution_count": 10,
   "id": "789333b8",
   "metadata": {},
   "outputs": [],
   "source": [
    "# Log into webull\n",
    "import webull as wb\n",
    "import json\n",
    "\n",
    "email = \"raullopez0402@gmail.com\"\n",
    "\n",
    "account = wb.paper_webull()\n",
    "# account._did = 'qqybvk2pt35loclup78rsps8f7uy9s6a'\n",
    "account.login(email, 'Gordo2002!', \"RaulMacBook\", save_token=True)\n",
    "account._access_token = 'dc_us_tech1.18cdab5af52-6ab08b21b0b24220af8563334dafd23b'"
   ]
  },
  {
   "cell_type": "code",
   "execution_count": 11,
   "id": "128f56e8",
   "metadata": {},
   "outputs": [
    {
     "data": {
      "text/plain": [
       "True"
      ]
     },
     "execution_count": 11,
     "metadata": {},
     "output_type": "execute_result"
    }
   ],
   "source": [
    "account.is_logged_in() #Check to see if it logged in"
   ]
  },
  {
   "cell_type": "code",
   "execution_count": 12,
   "id": "00298ebd",
   "metadata": {},
   "outputs": [],
   "source": [
    "# num_currencies = 250\n",
    "# table = pd.read_html(f'https://finance.yahoo.com/crypto?offset=0&count={num_currencies}')"
   ]
  },
  {
   "cell_type": "code",
   "execution_count": 13,
   "id": "1302cb0d-2db2-4274-88af-1cbef4d74250",
   "metadata": {},
   "outputs": [],
   "source": [
    "table = pd.read_html('https://en.wikipedia.org/wiki/List_of_S%26P_500_companies')"
   ]
  },
  {
   "cell_type": "code",
   "execution_count": 17,
   "id": "052c1ddc-db08-4ac3-bf75-8c3f4a2157cf",
   "metadata": {},
   "outputs": [],
   "source": [
    "# table[0]['Symbol']"
   ]
  },
  {
   "cell_type": "code",
   "execution_count": null,
   "id": "9ec6b1b0",
   "metadata": {},
   "outputs": [],
   "source": [
    "# table[0]['Symbol']\n",
    "# yf.Ticker('BTC-USD')"
   ]
  },
  {
   "cell_type": "code",
   "execution_count": 18,
   "id": "027cbda6",
   "metadata": {},
   "outputs": [
    {
     "name": "stderr",
     "output_type": "stream",
     "text": [
      "BRK.B: No timezone found, symbol may be delisted\n",
      "BF.B: No price data found, symbol may be delisted (1d 1925-01-28 -> 2024-01-05)\n"
     ]
    }
   ],
   "source": [
    "# Lets cache the name of the companies \n",
    "symbols = list(table[0][\"Symbol\"])\n",
    "\n",
    "stock_dict = {}\n",
    "for stock in symbols:\n",
    "    ticker = yf.Ticker(stock)\n",
    "    if ticker:\n",
    "        stock_history = ticker.history(period='max')\n",
    "        if not stock_history.empty:\n",
    "            stock_dict[stock] = stock_history\n"
   ]
  },
  {
   "cell_type": "code",
   "execution_count": 25,
   "id": "8ec5d85e",
   "metadata": {},
   "outputs": [],
   "source": [
    "#Verifuing our data output\n",
    "# stock_dict[\"AAPL\"] "
   ]
  },
  {
   "cell_type": "code",
   "execution_count": null,
   "id": "effb7188",
   "metadata": {},
   "outputs": [],
   "source": [
    "# # Also add Spy Ticker for comparison\n",
    "# spy = yf.Ticker(\"spy\").history(period='max')"
   ]
  },
  {
   "cell_type": "code",
   "execution_count": 22,
   "id": "9210f5c2",
   "metadata": {},
   "outputs": [],
   "source": [
    "# pip install pandas-ta"
   ]
  },
  {
   "cell_type": "code",
   "execution_count": 23,
   "id": "9630289d",
   "metadata": {},
   "outputs": [
    {
     "ename": "ValueError",
     "evalue": "Cannot set a DataFrame with multiple columns to the single column MA80",
     "output_type": "error",
     "traceback": [
      "\u001b[0;31m---------------------------------------------------------------------------\u001b[0m",
      "\u001b[0;31mValueError\u001b[0m                                Traceback (most recent call last)",
      "\u001b[0;32m/var/folders/nc/yrscg8z12gg8byvf1x104k980000gn/T/ipykernel_99943/2957592788.py\u001b[0m in \u001b[0;36m?\u001b[0;34m()\u001b[0m\n\u001b[1;32m      8\u001b[0m     \u001b[0msecurity\u001b[0m\u001b[0;34m[\u001b[0m\u001b[0;34m'ATR'\u001b[0m\u001b[0;34m]\u001b[0m \u001b[0;34m=\u001b[0m \u001b[0msecurity\u001b[0m\u001b[0;34m.\u001b[0m\u001b[0mta\u001b[0m\u001b[0;34m.\u001b[0m\u001b[0matr\u001b[0m\u001b[0;34m(\u001b[0m\u001b[0mlength\u001b[0m\u001b[0;34m=\u001b[0m\u001b[0;36m20\u001b[0m\u001b[0;34m)\u001b[0m\u001b[0;34m\u001b[0m\u001b[0;34m\u001b[0m\u001b[0m\n\u001b[1;32m      9\u001b[0m     \u001b[0msecurity\u001b[0m\u001b[0;34m[\u001b[0m\u001b[0;34m'RSI'\u001b[0m\u001b[0;34m]\u001b[0m \u001b[0;34m=\u001b[0m \u001b[0msecurity\u001b[0m\u001b[0;34m.\u001b[0m\u001b[0mta\u001b[0m\u001b[0;34m.\u001b[0m\u001b[0mrsi\u001b[0m\u001b[0;34m(\u001b[0m\u001b[0;34m)\u001b[0m\u001b[0;34m\u001b[0m\u001b[0;34m\u001b[0m\u001b[0m\n\u001b[1;32m     10\u001b[0m     \u001b[0msecurity\u001b[0m\u001b[0;34m[\u001b[0m\u001b[0;34m'Average'\u001b[0m\u001b[0;34m]\u001b[0m \u001b[0;34m=\u001b[0m \u001b[0msecurity\u001b[0m\u001b[0;34m.\u001b[0m\u001b[0mta\u001b[0m\u001b[0;34m.\u001b[0m\u001b[0mmidprice\u001b[0m\u001b[0;34m(\u001b[0m\u001b[0mlength\u001b[0m\u001b[0;34m=\u001b[0m\u001b[0;36m1\u001b[0m\u001b[0;34m)\u001b[0m\u001b[0;34m\u001b[0m\u001b[0;34m\u001b[0m\u001b[0m\n\u001b[1;32m     11\u001b[0m     \u001b[0msecurity\u001b[0m\u001b[0;34m[\u001b[0m\u001b[0;34m'MA40'\u001b[0m\u001b[0;34m]\u001b[0m \u001b[0;34m=\u001b[0m \u001b[0msecurity\u001b[0m\u001b[0;34m.\u001b[0m\u001b[0mta\u001b[0m\u001b[0;34m.\u001b[0m\u001b[0msma\u001b[0m\u001b[0;34m(\u001b[0m\u001b[0mlength\u001b[0m\u001b[0;34m=\u001b[0m\u001b[0;36m40\u001b[0m\u001b[0;34m)\u001b[0m\u001b[0;34m\u001b[0m\u001b[0;34m\u001b[0m\u001b[0m\n\u001b[0;32m---> 12\u001b[0;31m     \u001b[0msecurity\u001b[0m\u001b[0;34m[\u001b[0m\u001b[0;34m'MA80'\u001b[0m\u001b[0;34m]\u001b[0m \u001b[0;34m=\u001b[0m \u001b[0msecurity\u001b[0m\u001b[0;34m.\u001b[0m\u001b[0mta\u001b[0m\u001b[0;34m.\u001b[0m\u001b[0msma\u001b[0m\u001b[0;34m(\u001b[0m\u001b[0mlength\u001b[0m\u001b[0;34m=\u001b[0m\u001b[0;36m80\u001b[0m\u001b[0;34m)\u001b[0m\u001b[0;34m\u001b[0m\u001b[0;34m\u001b[0m\u001b[0m\n\u001b[0m\u001b[1;32m     13\u001b[0m     \u001b[0msecurity\u001b[0m\u001b[0;34m[\u001b[0m\u001b[0;34m'MA160'\u001b[0m\u001b[0;34m]\u001b[0m \u001b[0;34m=\u001b[0m \u001b[0msecurity\u001b[0m\u001b[0;34m.\u001b[0m\u001b[0mta\u001b[0m\u001b[0;34m.\u001b[0m\u001b[0msma\u001b[0m\u001b[0;34m(\u001b[0m\u001b[0mlength\u001b[0m\u001b[0;34m=\u001b[0m\u001b[0;36m160\u001b[0m\u001b[0;34m)\u001b[0m\u001b[0;34m\u001b[0m\u001b[0;34m\u001b[0m\u001b[0m\n\u001b[1;32m     14\u001b[0m \u001b[0;34m\u001b[0m\u001b[0m\n\u001b[1;32m     15\u001b[0m     \u001b[0;31m# Clean up NaN\u001b[0m\u001b[0;34m\u001b[0m\u001b[0;34m\u001b[0m\u001b[0m\n",
      "\u001b[0;32m~/miniconda3/lib/python3.11/site-packages/pandas/core/frame.py\u001b[0m in \u001b[0;36m?\u001b[0;34m(self, key, value)\u001b[0m\n\u001b[1;32m   4077\u001b[0m             \u001b[0mself\u001b[0m\u001b[0;34m.\u001b[0m\u001b[0m_setitem_frame\u001b[0m\u001b[0;34m(\u001b[0m\u001b[0mkey\u001b[0m\u001b[0;34m,\u001b[0m \u001b[0mvalue\u001b[0m\u001b[0;34m)\u001b[0m\u001b[0;34m\u001b[0m\u001b[0;34m\u001b[0m\u001b[0m\n\u001b[1;32m   4078\u001b[0m         \u001b[0;32melif\u001b[0m \u001b[0misinstance\u001b[0m\u001b[0;34m(\u001b[0m\u001b[0mkey\u001b[0m\u001b[0;34m,\u001b[0m \u001b[0;34m(\u001b[0m\u001b[0mSeries\u001b[0m\u001b[0;34m,\u001b[0m \u001b[0mnp\u001b[0m\u001b[0;34m.\u001b[0m\u001b[0mndarray\u001b[0m\u001b[0;34m,\u001b[0m \u001b[0mlist\u001b[0m\u001b[0;34m,\u001b[0m \u001b[0mIndex\u001b[0m\u001b[0;34m)\u001b[0m\u001b[0;34m)\u001b[0m\u001b[0;34m:\u001b[0m\u001b[0;34m\u001b[0m\u001b[0;34m\u001b[0m\u001b[0m\n\u001b[1;32m   4079\u001b[0m             \u001b[0mself\u001b[0m\u001b[0;34m.\u001b[0m\u001b[0m_setitem_array\u001b[0m\u001b[0;34m(\u001b[0m\u001b[0mkey\u001b[0m\u001b[0;34m,\u001b[0m \u001b[0mvalue\u001b[0m\u001b[0;34m)\u001b[0m\u001b[0;34m\u001b[0m\u001b[0;34m\u001b[0m\u001b[0m\n\u001b[1;32m   4080\u001b[0m         \u001b[0;32melif\u001b[0m \u001b[0misinstance\u001b[0m\u001b[0;34m(\u001b[0m\u001b[0mvalue\u001b[0m\u001b[0;34m,\u001b[0m \u001b[0mDataFrame\u001b[0m\u001b[0;34m)\u001b[0m\u001b[0;34m:\u001b[0m\u001b[0;34m\u001b[0m\u001b[0;34m\u001b[0m\u001b[0m\n\u001b[0;32m-> 4081\u001b[0;31m             \u001b[0mself\u001b[0m\u001b[0;34m.\u001b[0m\u001b[0m_set_item_frame_value\u001b[0m\u001b[0;34m(\u001b[0m\u001b[0mkey\u001b[0m\u001b[0;34m,\u001b[0m \u001b[0mvalue\u001b[0m\u001b[0;34m)\u001b[0m\u001b[0;34m\u001b[0m\u001b[0;34m\u001b[0m\u001b[0m\n\u001b[0m\u001b[1;32m   4082\u001b[0m         elif (\n\u001b[1;32m   4083\u001b[0m             \u001b[0mis_list_like\u001b[0m\u001b[0;34m(\u001b[0m\u001b[0mvalue\u001b[0m\u001b[0;34m)\u001b[0m\u001b[0;34m\u001b[0m\u001b[0;34m\u001b[0m\u001b[0m\n\u001b[1;32m   4084\u001b[0m             \u001b[0;32mand\u001b[0m \u001b[0;32mnot\u001b[0m \u001b[0mself\u001b[0m\u001b[0;34m.\u001b[0m\u001b[0mcolumns\u001b[0m\u001b[0;34m.\u001b[0m\u001b[0mis_unique\u001b[0m\u001b[0;34m\u001b[0m\u001b[0;34m\u001b[0m\u001b[0m\n",
      "\u001b[0;32m~/miniconda3/lib/python3.11/site-packages/pandas/core/frame.py\u001b[0m in \u001b[0;36m?\u001b[0;34m(self, key, value)\u001b[0m\n\u001b[1;32m   4235\u001b[0m \u001b[0;34m\u001b[0m\u001b[0m\n\u001b[1;32m   4236\u001b[0m             \u001b[0;32mreturn\u001b[0m \u001b[0mself\u001b[0m\u001b[0;34m.\u001b[0m\u001b[0misetitem\u001b[0m\u001b[0;34m(\u001b[0m\u001b[0mlocs\u001b[0m\u001b[0;34m,\u001b[0m \u001b[0mvalue\u001b[0m\u001b[0;34m)\u001b[0m\u001b[0;34m\u001b[0m\u001b[0;34m\u001b[0m\u001b[0m\n\u001b[1;32m   4237\u001b[0m \u001b[0;34m\u001b[0m\u001b[0m\n\u001b[1;32m   4238\u001b[0m         \u001b[0;32mif\u001b[0m \u001b[0mlen\u001b[0m\u001b[0;34m(\u001b[0m\u001b[0mvalue\u001b[0m\u001b[0;34m.\u001b[0m\u001b[0mcolumns\u001b[0m\u001b[0;34m)\u001b[0m \u001b[0;34m!=\u001b[0m \u001b[0;36m1\u001b[0m\u001b[0;34m:\u001b[0m\u001b[0;34m\u001b[0m\u001b[0;34m\u001b[0m\u001b[0m\n\u001b[0;32m-> 4239\u001b[0;31m             raise ValueError(\n\u001b[0m\u001b[1;32m   4240\u001b[0m                 \u001b[0;34m\"Cannot set a DataFrame with multiple columns to the single \"\u001b[0m\u001b[0;34m\u001b[0m\u001b[0;34m\u001b[0m\u001b[0m\n\u001b[1;32m   4241\u001b[0m                 \u001b[0;34mf\"column {key}\"\u001b[0m\u001b[0;34m\u001b[0m\u001b[0;34m\u001b[0m\u001b[0m\n\u001b[1;32m   4242\u001b[0m             )\n",
      "\u001b[0;31mValueError\u001b[0m: Cannot set a DataFrame with multiple columns to the single column MA80"
     ]
    }
   ],
   "source": [
    "import numpy as np\n",
    "import pandas as pd\n",
    "import pandas_ta as ta\n",
    "\n",
    "for stock in stock_dict.keys():\n",
    "    security = stock_dict[stock]\n",
    "    \n",
    "    security['ATR'] = security.ta.atr(length=20)\n",
    "    security['RSI'] = security.ta.rsi()\n",
    "    security['Average'] = security.ta.midprice(length=1)\n",
    "    security['MA40'] = security.ta.sma(length=40)\n",
    "    security['MA80'] = security.ta.sma(length=80)\n",
    "    security['MA160'] = security.ta.sma(length=160)\n",
    "\n",
    "    # Clean up NaN\n",
    "    security.dropna(inplace=True)\n",
    "    "
   ]
  },
  {
   "cell_type": "code",
   "execution_count": 27,
   "id": "2379472f",
   "metadata": {},
   "outputs": [],
   "source": [
    "#Verifuing our data output\n",
    "# stock_dict[\"MSFT\"] "
   ]
  },
  {
   "cell_type": "code",
   "execution_count": 28,
   "id": "f0327d9a",
   "metadata": {},
   "outputs": [],
   "source": [
    "from scipy.stats import linregress\n",
    "\n",
    "def get_slope(array):\n",
    "    y = np.array(array)\n",
    "    x = np.arange(len(y))\n",
    "    slope, intercept, r_value, p_value, std_error = linregress(x, y)\n",
    "    return slope"
   ]
  },
  {
   "cell_type": "code",
   "execution_count": 29,
   "id": "c9b37c28",
   "metadata": {},
   "outputs": [],
   "source": [
    "backrollingN = 5 # Rolling window of 5 days\n",
    "\n",
    "for stock in stock_dict.keys():\n",
    "    security = stock_dict[stock]\n",
    "\n",
    "    try:\n",
    "        security['MA40Slope'] = security['MA40'].rolling(window = backrollingN).apply(get_slope, raw=True)\n",
    "        security['MA80Slope'] = security['MA80'].rolling(window = backrollingN).apply(get_slope, raw=True)\n",
    "        security['MA160Slope'] = security['MA160'].rolling(window = backrollingN).apply(get_slope, raw=True)\n",
    "        security['AverageSlope'] = security['Average'].rolling(window = backrollingN).apply(get_slope, raw=True)\n",
    "        security['RSISlope'] = security['RSI'].rolling(window = backrollingN).apply(get_slope, raw=True)\n",
    "        \n",
    "    except KeyError as e:\n",
    "        continue\n",
    "        \n",
    "    # Clean up NaN\n",
    "    security.dropna(inplace=True)"
   ]
  },
  {
   "cell_type": "code",
   "execution_count": 30,
   "id": "c5f2645f",
   "metadata": {},
   "outputs": [
    {
     "data": {
      "text/html": [
       "<div>\n",
       "<style scoped>\n",
       "    .dataframe tbody tr th:only-of-type {\n",
       "        vertical-align: middle;\n",
       "    }\n",
       "\n",
       "    .dataframe tbody tr th {\n",
       "        vertical-align: top;\n",
       "    }\n",
       "\n",
       "    .dataframe thead th {\n",
       "        text-align: right;\n",
       "    }\n",
       "</style>\n",
       "<table border=\"1\" class=\"dataframe\">\n",
       "  <thead>\n",
       "    <tr style=\"text-align: right;\">\n",
       "      <th></th>\n",
       "      <th>Open</th>\n",
       "      <th>High</th>\n",
       "      <th>Low</th>\n",
       "      <th>Close</th>\n",
       "      <th>Volume</th>\n",
       "      <th>Dividends</th>\n",
       "      <th>Stock Splits</th>\n",
       "      <th>ATR</th>\n",
       "      <th>RSI</th>\n",
       "      <th>Average</th>\n",
       "      <th>MA40</th>\n",
       "      <th>MA80</th>\n",
       "      <th>MA160</th>\n",
       "      <th>MA40Slope</th>\n",
       "      <th>MA80Slope</th>\n",
       "      <th>MA160Slope</th>\n",
       "      <th>AverageSlope</th>\n",
       "      <th>RSISlope</th>\n",
       "    </tr>\n",
       "    <tr>\n",
       "      <th>Date</th>\n",
       "      <th></th>\n",
       "      <th></th>\n",
       "      <th></th>\n",
       "      <th></th>\n",
       "      <th></th>\n",
       "      <th></th>\n",
       "      <th></th>\n",
       "      <th></th>\n",
       "      <th></th>\n",
       "      <th></th>\n",
       "      <th></th>\n",
       "      <th></th>\n",
       "      <th></th>\n",
       "      <th></th>\n",
       "      <th></th>\n",
       "      <th></th>\n",
       "      <th></th>\n",
       "      <th></th>\n",
       "    </tr>\n",
       "  </thead>\n",
       "  <tbody>\n",
       "    <tr>\n",
       "      <th>1981-08-06 00:00:00-04:00</th>\n",
       "      <td>0.087659</td>\n",
       "      <td>0.087659</td>\n",
       "      <td>0.087228</td>\n",
       "      <td>0.087228</td>\n",
       "      <td>10528000</td>\n",
       "      <td>0.0</td>\n",
       "      <td>0.0</td>\n",
       "      <td>0.002808</td>\n",
       "      <td>49.453807</td>\n",
       "      <td>0.087444</td>\n",
       "      <td>0.091524</td>\n",
       "      <td>0.096091</td>\n",
       "      <td>0.096423</td>\n",
       "      <td>-0.000502</td>\n",
       "      <td>-0.000099</td>\n",
       "      <td>-0.000030</td>\n",
       "      <td>0.000540</td>\n",
       "      <td>0.834499</td>\n",
       "    </tr>\n",
       "    <tr>\n",
       "      <th>1981-08-07 00:00:00-04:00</th>\n",
       "      <td>0.087228</td>\n",
       "      <td>0.087659</td>\n",
       "      <td>0.087228</td>\n",
       "      <td>0.087228</td>\n",
       "      <td>9206400</td>\n",
       "      <td>0.0</td>\n",
       "      <td>0.0</td>\n",
       "      <td>0.002689</td>\n",
       "      <td>49.453807</td>\n",
       "      <td>0.087444</td>\n",
       "      <td>0.090866</td>\n",
       "      <td>0.095978</td>\n",
       "      <td>0.096393</td>\n",
       "      <td>-0.000523</td>\n",
       "      <td>-0.000103</td>\n",
       "      <td>-0.000015</td>\n",
       "      <td>0.000345</td>\n",
       "      <td>0.539754</td>\n",
       "    </tr>\n",
       "    <tr>\n",
       "      <th>1981-08-10 00:00:00-04:00</th>\n",
       "      <td>0.087228</td>\n",
       "      <td>0.087228</td>\n",
       "      <td>0.087228</td>\n",
       "      <td>0.087228</td>\n",
       "      <td>0</td>\n",
       "      <td>0.0</td>\n",
       "      <td>0.0</td>\n",
       "      <td>0.002555</td>\n",
       "      <td>49.453807</td>\n",
       "      <td>0.087228</td>\n",
       "      <td>0.090240</td>\n",
       "      <td>0.095924</td>\n",
       "      <td>0.096328</td>\n",
       "      <td>-0.000575</td>\n",
       "      <td>-0.000096</td>\n",
       "      <td>-0.000023</td>\n",
       "      <td>-0.000173</td>\n",
       "      <td>-0.229410</td>\n",
       "    </tr>\n",
       "    <tr>\n",
       "      <th>1981-08-11 00:00:00-04:00</th>\n",
       "      <td>0.085501</td>\n",
       "      <td>0.085501</td>\n",
       "      <td>0.084637</td>\n",
       "      <td>0.084637</td>\n",
       "      <td>71456000</td>\n",
       "      <td>0.0</td>\n",
       "      <td>0.0</td>\n",
       "      <td>0.002556</td>\n",
       "      <td>45.240219</td>\n",
       "      <td>0.085069</td>\n",
       "      <td>0.089560</td>\n",
       "      <td>0.095902</td>\n",
       "      <td>0.096218</td>\n",
       "      <td>-0.000629</td>\n",
       "      <td>-0.000077</td>\n",
       "      <td>-0.000053</td>\n",
       "      <td>-0.000928</td>\n",
       "      <td>-1.498096</td>\n",
       "    </tr>\n",
       "    <tr>\n",
       "      <th>1981-08-12 00:00:00-04:00</th>\n",
       "      <td>0.083342</td>\n",
       "      <td>0.083342</td>\n",
       "      <td>0.082910</td>\n",
       "      <td>0.082910</td>\n",
       "      <td>26275200</td>\n",
       "      <td>0.0</td>\n",
       "      <td>0.0</td>\n",
       "      <td>0.002515</td>\n",
       "      <td>42.632329</td>\n",
       "      <td>0.083126</td>\n",
       "      <td>0.088890</td>\n",
       "      <td>0.095826</td>\n",
       "      <td>0.096069</td>\n",
       "      <td>-0.000657</td>\n",
       "      <td>-0.000060</td>\n",
       "      <td>-0.000088</td>\n",
       "      <td>-0.001101</td>\n",
       "      <td>-1.785654</td>\n",
       "    </tr>\n",
       "    <tr>\n",
       "      <th>...</th>\n",
       "      <td>...</td>\n",
       "      <td>...</td>\n",
       "      <td>...</td>\n",
       "      <td>...</td>\n",
       "      <td>...</td>\n",
       "      <td>...</td>\n",
       "      <td>...</td>\n",
       "      <td>...</td>\n",
       "      <td>...</td>\n",
       "      <td>...</td>\n",
       "      <td>...</td>\n",
       "      <td>...</td>\n",
       "      <td>...</td>\n",
       "      <td>...</td>\n",
       "      <td>...</td>\n",
       "      <td>...</td>\n",
       "      <td>...</td>\n",
       "      <td>...</td>\n",
       "    </tr>\n",
       "    <tr>\n",
       "      <th>2023-12-29 00:00:00-05:00</th>\n",
       "      <td>193.899994</td>\n",
       "      <td>194.399994</td>\n",
       "      <td>191.729996</td>\n",
       "      <td>192.529999</td>\n",
       "      <td>42628800</td>\n",
       "      <td>0.0</td>\n",
       "      <td>0.0</td>\n",
       "      <td>2.674756</td>\n",
       "      <td>51.121324</td>\n",
       "      <td>193.064995</td>\n",
       "      <td>190.356207</td>\n",
       "      <td>182.496317</td>\n",
       "      <td>182.939316</td>\n",
       "      <td>0.565092</td>\n",
       "      <td>0.068478</td>\n",
       "      <td>0.129907</td>\n",
       "      <td>-0.169501</td>\n",
       "      <td>-0.565200</td>\n",
       "    </tr>\n",
       "    <tr>\n",
       "      <th>2024-01-02 00:00:00-05:00</th>\n",
       "      <td>187.149994</td>\n",
       "      <td>188.440002</td>\n",
       "      <td>183.889999</td>\n",
       "      <td>185.639999</td>\n",
       "      <td>82488700</td>\n",
       "      <td>0.0</td>\n",
       "      <td>0.0</td>\n",
       "      <td>2.973019</td>\n",
       "      <td>35.425373</td>\n",
       "      <td>186.165001</td>\n",
       "      <td>190.563798</td>\n",
       "      <td>182.600237</td>\n",
       "      <td>183.023875</td>\n",
       "      <td>0.470615</td>\n",
       "      <td>0.083096</td>\n",
       "      <td>0.119885</td>\n",
       "      <td>-1.362000</td>\n",
       "      <td>-3.756241</td>\n",
       "    </tr>\n",
       "    <tr>\n",
       "      <th>2024-01-03 00:00:00-05:00</th>\n",
       "      <td>184.220001</td>\n",
       "      <td>185.880005</td>\n",
       "      <td>183.429993</td>\n",
       "      <td>184.250000</td>\n",
       "      <td>58414500</td>\n",
       "      <td>0.0</td>\n",
       "      <td>0.0</td>\n",
       "      <td>2.946868</td>\n",
       "      <td>33.210059</td>\n",
       "      <td>184.654999</td>\n",
       "      <td>190.759608</td>\n",
       "      <td>182.679042</td>\n",
       "      <td>183.102864</td>\n",
       "      <td>0.357529</td>\n",
       "      <td>0.094239</td>\n",
       "      <td>0.103596</td>\n",
       "      <td>-2.303000</td>\n",
       "      <td>-5.940432</td>\n",
       "    </tr>\n",
       "    <tr>\n",
       "      <th>2024-01-04 00:00:00-05:00</th>\n",
       "      <td>182.149994</td>\n",
       "      <td>183.089996</td>\n",
       "      <td>180.880005</td>\n",
       "      <td>181.910004</td>\n",
       "      <td>71919900</td>\n",
       "      <td>0.0</td>\n",
       "      <td>0.0</td>\n",
       "      <td>2.968025</td>\n",
       "      <td>29.828357</td>\n",
       "      <td>181.985001</td>\n",
       "      <td>190.832504</td>\n",
       "      <td>182.713867</td>\n",
       "      <td>183.167227</td>\n",
       "      <td>0.229544</td>\n",
       "      <td>0.086434</td>\n",
       "      <td>0.086289</td>\n",
       "      <td>-3.227000</td>\n",
       "      <td>-6.733652</td>\n",
       "    </tr>\n",
       "    <tr>\n",
       "      <th>2024-01-05 00:00:00-05:00</th>\n",
       "      <td>181.990005</td>\n",
       "      <td>182.759995</td>\n",
       "      <td>181.279999</td>\n",
       "      <td>181.750000</td>\n",
       "      <td>24152981</td>\n",
       "      <td>0.0</td>\n",
       "      <td>0.0</td>\n",
       "      <td>2.893623</td>\n",
       "      <td>29.606358</td>\n",
       "      <td>182.019997</td>\n",
       "      <td>190.836734</td>\n",
       "      <td>182.784892</td>\n",
       "      <td>183.226725</td>\n",
       "      <td>0.122976</td>\n",
       "      <td>0.069078</td>\n",
       "      <td>0.071817</td>\n",
       "      <td>-2.627000</td>\n",
       "      <td>-4.862695</td>\n",
       "    </tr>\n",
       "  </tbody>\n",
       "</table>\n",
       "<p>10694 rows × 18 columns</p>\n",
       "</div>"
      ],
      "text/plain": [
       "                                 Open        High         Low       Close  \\\n",
       "Date                                                                        \n",
       "1981-08-06 00:00:00-04:00    0.087659    0.087659    0.087228    0.087228   \n",
       "1981-08-07 00:00:00-04:00    0.087228    0.087659    0.087228    0.087228   \n",
       "1981-08-10 00:00:00-04:00    0.087228    0.087228    0.087228    0.087228   \n",
       "1981-08-11 00:00:00-04:00    0.085501    0.085501    0.084637    0.084637   \n",
       "1981-08-12 00:00:00-04:00    0.083342    0.083342    0.082910    0.082910   \n",
       "...                               ...         ...         ...         ...   \n",
       "2023-12-29 00:00:00-05:00  193.899994  194.399994  191.729996  192.529999   \n",
       "2024-01-02 00:00:00-05:00  187.149994  188.440002  183.889999  185.639999   \n",
       "2024-01-03 00:00:00-05:00  184.220001  185.880005  183.429993  184.250000   \n",
       "2024-01-04 00:00:00-05:00  182.149994  183.089996  180.880005  181.910004   \n",
       "2024-01-05 00:00:00-05:00  181.990005  182.759995  181.279999  181.750000   \n",
       "\n",
       "                             Volume  Dividends  Stock Splits       ATR  \\\n",
       "Date                                                                     \n",
       "1981-08-06 00:00:00-04:00  10528000        0.0           0.0  0.002808   \n",
       "1981-08-07 00:00:00-04:00   9206400        0.0           0.0  0.002689   \n",
       "1981-08-10 00:00:00-04:00         0        0.0           0.0  0.002555   \n",
       "1981-08-11 00:00:00-04:00  71456000        0.0           0.0  0.002556   \n",
       "1981-08-12 00:00:00-04:00  26275200        0.0           0.0  0.002515   \n",
       "...                             ...        ...           ...       ...   \n",
       "2023-12-29 00:00:00-05:00  42628800        0.0           0.0  2.674756   \n",
       "2024-01-02 00:00:00-05:00  82488700        0.0           0.0  2.973019   \n",
       "2024-01-03 00:00:00-05:00  58414500        0.0           0.0  2.946868   \n",
       "2024-01-04 00:00:00-05:00  71919900        0.0           0.0  2.968025   \n",
       "2024-01-05 00:00:00-05:00  24152981        0.0           0.0  2.893623   \n",
       "\n",
       "                                 RSI     Average        MA40        MA80  \\\n",
       "Date                                                                       \n",
       "1981-08-06 00:00:00-04:00  49.453807    0.087444    0.091524    0.096091   \n",
       "1981-08-07 00:00:00-04:00  49.453807    0.087444    0.090866    0.095978   \n",
       "1981-08-10 00:00:00-04:00  49.453807    0.087228    0.090240    0.095924   \n",
       "1981-08-11 00:00:00-04:00  45.240219    0.085069    0.089560    0.095902   \n",
       "1981-08-12 00:00:00-04:00  42.632329    0.083126    0.088890    0.095826   \n",
       "...                              ...         ...         ...         ...   \n",
       "2023-12-29 00:00:00-05:00  51.121324  193.064995  190.356207  182.496317   \n",
       "2024-01-02 00:00:00-05:00  35.425373  186.165001  190.563798  182.600237   \n",
       "2024-01-03 00:00:00-05:00  33.210059  184.654999  190.759608  182.679042   \n",
       "2024-01-04 00:00:00-05:00  29.828357  181.985001  190.832504  182.713867   \n",
       "2024-01-05 00:00:00-05:00  29.606358  182.019997  190.836734  182.784892   \n",
       "\n",
       "                                MA160  MA40Slope  MA80Slope  MA160Slope  \\\n",
       "Date                                                                      \n",
       "1981-08-06 00:00:00-04:00    0.096423  -0.000502  -0.000099   -0.000030   \n",
       "1981-08-07 00:00:00-04:00    0.096393  -0.000523  -0.000103   -0.000015   \n",
       "1981-08-10 00:00:00-04:00    0.096328  -0.000575  -0.000096   -0.000023   \n",
       "1981-08-11 00:00:00-04:00    0.096218  -0.000629  -0.000077   -0.000053   \n",
       "1981-08-12 00:00:00-04:00    0.096069  -0.000657  -0.000060   -0.000088   \n",
       "...                               ...        ...        ...         ...   \n",
       "2023-12-29 00:00:00-05:00  182.939316   0.565092   0.068478    0.129907   \n",
       "2024-01-02 00:00:00-05:00  183.023875   0.470615   0.083096    0.119885   \n",
       "2024-01-03 00:00:00-05:00  183.102864   0.357529   0.094239    0.103596   \n",
       "2024-01-04 00:00:00-05:00  183.167227   0.229544   0.086434    0.086289   \n",
       "2024-01-05 00:00:00-05:00  183.226725   0.122976   0.069078    0.071817   \n",
       "\n",
       "                           AverageSlope  RSISlope  \n",
       "Date                                               \n",
       "1981-08-06 00:00:00-04:00      0.000540  0.834499  \n",
       "1981-08-07 00:00:00-04:00      0.000345  0.539754  \n",
       "1981-08-10 00:00:00-04:00     -0.000173 -0.229410  \n",
       "1981-08-11 00:00:00-04:00     -0.000928 -1.498096  \n",
       "1981-08-12 00:00:00-04:00     -0.001101 -1.785654  \n",
       "...                                 ...       ...  \n",
       "2023-12-29 00:00:00-05:00     -0.169501 -0.565200  \n",
       "2024-01-02 00:00:00-05:00     -1.362000 -3.756241  \n",
       "2024-01-03 00:00:00-05:00     -2.303000 -5.940432  \n",
       "2024-01-04 00:00:00-05:00     -3.227000 -6.733652  \n",
       "2024-01-05 00:00:00-05:00     -2.627000 -4.862695  \n",
       "\n",
       "[10694 rows x 18 columns]"
      ]
     },
     "execution_count": 30,
     "metadata": {},
     "output_type": "execute_result"
    }
   ],
   "source": [
    "#Verifuing our data output\n",
    "stock_dict[\"AAPL\"] "
   ]
  },
  {
   "cell_type": "code",
   "execution_count": 37,
   "id": "37820c48",
   "metadata": {},
   "outputs": [],
   "source": [
    "# If at any point yuor trade would cross your stop loss, then mark it as a downtrend\n",
    "take_profit = 0.03\n",
    "stop_loss = .01\n",
    "\n",
    "def myTarget(bars_in_front, df):\n",
    "    length = len(df)\n",
    "    high = list(df['High'])\n",
    "    low = list(df[\"Low\"])\n",
    "    close = list(df[\"Close\"])\n",
    "    open = list(df[\"Open\"])\n",
    "    trendcat = [None] * length\n",
    "    \n",
    "    for day in range(0, length - bars_in_front - 2):\n",
    "        try:\n",
    "            for i in range(1, bars_in_front + 2):\n",
    "                TPBuy = open[day] * 1.03\n",
    "                SLBuy = open[day] * 0.99\n",
    "                TPSell = open[day] * 0.97\n",
    "                SLSell = open[day] * 1.01\n",
    "                \n",
    "                valueOpenLow = (low[day+i]/open[day + 1]) - 1\n",
    "                valueOpenHigh = (high[day+i]/open[day + 1]) - 1\n",
    "    #             valueOpenLow = max(value1, valueOpenLow)\n",
    "    #             valueOpenHigh = min(value2, valueOpenHigh)\n",
    "    \n",
    "                if (valueOpenLow <= -take_profit and valueOpenHigh <= stop_loss) :\n",
    "    #                 trendcat[day] = (1, f'start Open {open[day + 1]}, low of day { low[day + i]}, high of day {high[day + i]}, {valueOpenLow}, {valueOpenHigh}') #-1 downtrend\n",
    "                    trendcat[day] = 1 # Downtrend 1\n",
    "                    break\n",
    "                elif (valueOpenLow >= -stop_loss and valueOpenHigh >= take_profit):\n",
    "    #                 trendcat[day] = (2, f'start Open {open[day + 1]}, low of day { low[day + i]}, high of day {high[day + i]}, {valueOpenLow}, {valueOpenHigh}') # uptrend\n",
    "                    trendcat[day] = 2 # Uptrend 2\n",
    "                    break\n",
    "                else:\n",
    "                    trendcat[day] = 0 # no clear trend\n",
    "        except:\n",
    "            continue\n",
    "\n",
    "                \n",
    "    return trendcat  "
   ]
  },
  {
   "cell_type": "code",
   "execution_count": 38,
   "id": "a4653db1",
   "metadata": {},
   "outputs": [],
   "source": [
    "for stock in stock_dict.keys():\n",
    "    security = stock_dict[stock]\n",
    "    security['mytarget'] = myTarget(20, security)\n",
    "    \n",
    "    # Clean up NaN\n",
    "    security.dropna(inplace=True)"
   ]
  },
  {
   "cell_type": "code",
   "execution_count": 40,
   "id": "7b7496aa",
   "metadata": {},
   "outputs": [],
   "source": [
    "# #Verifuing our data output\n",
    "# stock_dict[\"AAPL\"]['mytarget']"
   ]
  },
  {
   "cell_type": "code",
   "execution_count": 42,
   "id": "2edec781",
   "metadata": {},
   "outputs": [
    {
     "name": "stderr",
     "output_type": "stream",
     "text": [
      "/var/folders/nc/yrscg8z12gg8byvf1x104k980000gn/T/ipykernel_99943/4264024130.py:8: UserWarning: To output multiple subplots, the figure containing the passed axes is being cleared.\n",
      "  df_model.hist(ax = ax)\n"
     ]
    },
    {
     "data": {
      "image/png": "[encoded data removed]",
      "text/plain": [
       "<Figure size 1500x2000 with 16 Axes>"
      ]
     },
     "metadata": {},
     "output_type": "display_data"
    }
   ],
   "source": [
    "df = stock_dict[\"AAPL\"]\n",
    "\n",
    "# Quick Analysis Example\n",
    "import matplotlib.pyplot as plt\n",
    "fig = plt.figure(figsize = (15, 20))\n",
    "ax = fig.gca()\n",
    "df_model= df[['Volume', 'ATR', 'RSI', 'Average', 'MA40', 'MA80', 'MA160', 'MA40Slope', 'MA80Slope', 'MA160Slope', 'AverageSlope', 'RSISlope', 'mytarget']] \n",
    "df_model.hist(ax = ax)\n",
    "plt.show()"
   ]
  },
  {
   "cell_type": "code",
   "execution_count": 44,
   "id": "d33efd30",
   "metadata": {},
   "outputs": [
    {
     "data": {
      "image/png": "[encoded data removed]",
      "text/plain": [
       "<Figure size 640x480 with 1 Axes>"
      ]
     },
     "metadata": {},
     "output_type": "display_data"
    }
   ],
   "source": [
    "df = stock_dict[\"AAPL\"]\n",
    "\n",
    "from matplotlib import pyplot\n",
    "\n",
    "df_up=df.RSI[ df['mytarget'] == 2 ]\n",
    "df_down=df.RSI[ df['mytarget'] == 1 ]\n",
    "df_unclear=df.RSI[ df['mytarget'] == 0 ]\n",
    "pyplot.hist(df_unclear, bins=200, alpha=0.5, label='unclear')\n",
    "pyplot.hist(df_down, bins=200, alpha=0.5, label='down')\n",
    "pyplot.hist(df_up, bins=200, alpha=0.5, label='up')\n",
    "\n",
    "pyplot.legend(loc='upper right')\n",
    "pyplot.show()"
   ]
  },
  {
   "cell_type": "code",
   "execution_count": null,
   "id": "bae00ce1",
   "metadata": {},
   "outputs": [],
   "source": [
    "# # security = stock_dict['AAPL']\n",
    "# security[['Volume', 'ATR', 'RSI', 'Average', 'MA40', 'MA80', 'MA160', 'MA40Slope', 'MA80Slope', 'MA160Slope', 'AverageSlope', 'RSISlope']]"
   ]
  },
  {
   "cell_type": "code",
   "execution_count": 45,
   "id": "21f3a098",
   "metadata": {},
   "outputs": [],
   "source": [
    "# Delete stocks we cant use\n",
    "for stock in stock_dict.keys():\n",
    "    security = stock_dict[stock]\n",
    "    attributes=['Volume', 'ATR', 'RSI', 'Average', 'MA40', 'MA80', 'MA160', 'MA40Slope', 'MA80Slope', 'MA160Slope', 'AverageSlope', 'RSISlope']\n"
   ]
  },
  {
   "cell_type": "code",
   "execution_count": 46,
   "id": "00e8636d",
   "metadata": {},
   "outputs": [],
   "source": [
    "# Splitting features\n",
    "to_delete = []\n",
    "for stock in stock_dict.keys():\n",
    "    security = stock_dict[stock]\n",
    "    \n",
    "    attributes=['Volume', 'ATR', 'RSI', 'Average', 'MA40', 'MA80', 'MA160', 'MA40Slope', 'MA80Slope', 'MA160Slope', 'AverageSlope', 'RSISlope']\n",
    "    try:\n",
    "        X = security[attributes]\n",
    "        y = security[\"mytarget\"]\n",
    "        \n",
    "    except KeyError:\n",
    "        to_delete.append(stock)\n"
   ]
  },
  {
   "cell_type": "code",
   "execution_count": 47,
   "id": "fc89fb9d",
   "metadata": {},
   "outputs": [],
   "source": [
    "# Delete stocks we cant use\n",
    "for stock in to_delete:\n",
    "    del stock_dict[stock]"
   ]
  },
  {
   "cell_type": "code",
   "execution_count": 49,
   "id": "fddf15ce",
   "metadata": {},
   "outputs": [],
   "source": [
    "# pip install -U scikit-learn"
   ]
  },
  {
   "cell_type": "code",
   "execution_count": 50,
   "id": "916ce489",
   "metadata": {},
   "outputs": [],
   "source": [
    "# Split test and check data \n",
    "from sklearn.model_selection import train_test_split\n",
    "\n",
    "X_train, X_test, y_train, y_test = train_test_split(X, y, test_size=0.2, random_state=1)"
   ]
  },
  {
   "cell_type": "code",
   "execution_count": 51,
   "id": "5ef3a35e",
   "metadata": {},
   "outputs": [],
   "source": [
    "# Fitting Model\n",
    "from sklearn.neighbors import KNeighborsClassifier\n",
    "model = KNeighborsClassifier(n_neighbors=200, weights='uniform', algorithm='kd_tree', leaf_size=30, p=1, metric='minkowski', metric_params=None, n_jobs=1)\n",
    "model.fit(X_train, y_train)\n",
    "\n",
    "y_pred_train = model.predict(X_train)\n",
    "y_pred_test = model.predict(X_test)"
   ]
  },
  {
   "cell_type": "code",
   "execution_count": 52,
   "id": "c2f920d4",
   "metadata": {},
   "outputs": [
    {
     "name": "stdout",
     "output_type": "stream",
     "text": [
      "Accuracy train: 54.56%\n",
      "Accuracy test: 52.07%\n"
     ]
    }
   ],
   "source": [
    "# Model Evaliation\n",
    "from sklearn.metrics import accuracy_score\n",
    "accuracy_train = accuracy_score(y_train, y_pred_train)\n",
    "accuracy_test = accuracy_score(y_test, y_pred_test)\n",
    "print(\"Accuracy train: %.2f%%\" % (accuracy_train * 100.0))\n",
    "print(\"Accuracy test: %.2f%%\" % (accuracy_test * 100.0))"
   ]
  },
  {
   "cell_type": "code",
   "execution_count": 53,
   "id": "38a1ec3c",
   "metadata": {},
   "outputs": [
    {
     "name": "stdout",
     "output_type": "stream",
     "text": [
      "mytarget\n",
      "2.0    52.525822\n",
      "1.0    47.220657\n",
      "0.0     0.253521\n",
      "Name: count, dtype: float64\n"
     ]
    }
   ],
   "source": [
    "#------------------------------------------------------------------\n",
    "#--- How should I compare my accuracy ?\n",
    "print(df_model['mytarget'].value_counts()*100/df_model['mytarget'].count())"
   ]
  },
  {
   "cell_type": "code",
   "execution_count": 54,
   "id": "4faf4430",
   "metadata": {},
   "outputs": [
    {
     "name": "stdout",
     "output_type": "stream",
     "text": [
      "Accuracy Gambler: 33.61%\n"
     ]
    }
   ],
   "source": [
    "# Random Model, gambler?\n",
    "pred_test = np.random.choice([0, 1, 2], len(y_pred_test))\n",
    "accuracy_test = accuracy_score(y_test, pred_test)\n",
    "print(\"Accuracy Gambler: %.2f%%\" % (accuracy_test * 100.0))"
   ]
  },
  {
   "cell_type": "code",
   "execution_count": 56,
   "id": "5dd23498",
   "metadata": {},
   "outputs": [],
   "source": [
    "# pip install xgboost"
   ]
  },
  {
   "cell_type": "code",
   "execution_count": 57,
   "id": "56895f60",
   "metadata": {},
   "outputs": [],
   "source": [
    "from sklearn.preprocessing import LabelEncoder\n",
    "le = LabelEncoder()\n",
    "y_train = le.fit_transform(y_train)\n",
    "y_test = le.fit_transform(y_test)"
   ]
  },
  {
   "cell_type": "code",
   "execution_count": 58,
   "id": "546ec3e6",
   "metadata": {},
   "outputs": [
    {
     "name": "stdout",
     "output_type": "stream",
     "text": [
      "****Train Results****\n",
      "Accuracy: 98.9468%\n",
      "****Test Results****\n",
      "Accuracy: 77.6417%\n"
     ]
    }
   ],
   "source": [
    "from xgboost import XGBClassifier\n",
    "\n",
    "model = XGBClassifier()\n",
    "model.fit(X_train, y_train)\n",
    "pred_train = model.predict(X_train)\n",
    "pred_test = model.predict(X_test)\n",
    "acc_train = accuracy_score(y_train, pred_train)\n",
    "acc_test = accuracy_score(y_test, pred_test)\n",
    "print('****Train Results****')\n",
    "print(\"Accuracy: {:.4%}\".format(acc_train))\n",
    "print('****Test Results****')\n",
    "print(\"Accuracy: {:.4%}\".format(acc_test))"
   ]
  },
  {
   "cell_type": "code",
   "execution_count": 59,
   "id": "fbbe175f",
   "metadata": {},
   "outputs": [
    {
     "name": "stdout",
     "output_type": "stream",
     "text": [
      "****Train Results****\n",
      "Accuracy: 98.7936%\n",
      "****Test Results****\n",
      "Accuracy: 51.5314%\n"
     ]
    }
   ],
   "source": [
    "# Lets not make our data sampling random\n",
    "#sequential sampling\n",
    "train_index = int(0.8 * len(X))\n",
    "X_train, X_test = X[:train_index], X[train_index:]\n",
    "y_train, y_test = y[:train_index], y[train_index:]\n",
    "\n",
    "from sklearn.preprocessing import LabelEncoder\n",
    "le = LabelEncoder()\n",
    "y_train = le.fit_transform(y_train)\n",
    "y_test = le.fit_transform(y_test)\n",
    "\n",
    "model = XGBClassifier()\n",
    "model.fit(X_train, y_train)\n",
    "pred_train = model.predict(X_train)\n",
    "pred_test = model.predict(X_test)\n",
    "acc_train = accuracy_score(y_train, pred_train)\n",
    "acc_test = accuracy_score(y_test, pred_test)\n",
    "print('****Train Results****')\n",
    "print(\"Accuracy: {:.4%}\".format(acc_train))\n",
    "print('****Test Results****')\n",
    "print(\"Accuracy: {:.4%}\".format(acc_test))"
   ]
  },
  {
   "cell_type": "code",
   "execution_count": 60,
   "id": "9e1f1775",
   "metadata": {},
   "outputs": [
    {
     "data": {
      "image/png": "[encoded data removed]",
      "text/plain": [
       "<Figure size 640x480 with 1 Axes>"
      ]
     },
     "metadata": {},
     "output_type": "display_data"
    }
   ],
   "source": [
    "# What features are most important \n",
    "from matplotlib import pyplot\n",
    "from xgboost import plot_importance\n",
    "#plot feature importance\n",
    "plot_importance(model)\n",
    "pyplot.show()"
   ]
  },
  {
   "cell_type": "code",
   "execution_count": 61,
   "id": "afaf53c0",
   "metadata": {},
   "outputs": [
    {
     "data": {
      "text/plain": [
       "['StockPredictorModel_1.sav']"
      ]
     },
     "execution_count": 61,
     "metadata": {},
     "output_type": "execute_result"
    }
   ],
   "source": [
    "import joblib\n",
    "\n",
    "# save your ML model to disk\n",
    "filename = 'StockPredictorModel_1.sav'\n",
    "joblib.dump(model, filename)\n"
   ]
  },
  {
   "cell_type": "code",
   "execution_count": 62,
   "id": "00da1db8",
   "metadata": {},
   "outputs": [],
   "source": [
    "import joblib\n",
    "\n",
    "#load the model from disk\n",
    "loaded_model = joblib.load('StockPredictorModel_1.sav')"
   ]
  },
  {
   "cell_type": "code",
   "execution_count": 63,
   "id": "487de2a3",
   "metadata": {},
   "outputs": [],
   "source": [
    "#pip install webull"
   ]
  },
  {
   "cell_type": "code",
   "execution_count": 64,
   "id": "f110167c",
   "metadata": {},
   "outputs": [
    {
     "name": "stdout",
     "output_type": "stream",
     "text": [
      "True\n"
     ]
    }
   ],
   "source": [
    "# account.get_current_orders()\n",
    "print(account.is_logged_in())"
   ]
  },
  {
   "cell_type": "code",
   "execution_count": null,
   "id": "0fe3cd7d",
   "metadata": {},
   "outputs": [],
   "source": [
    "# account.place_order(stock=\"SPY\", action='BUY', orderType=\"MKT\" , quant= 1, enforce=\"DAY\")"
   ]
  },
  {
   "cell_type": "code",
   "execution_count": null,
   "id": "ac37d0ef",
   "metadata": {},
   "outputs": [],
   "source": [
    "# account.place_order(stock=\"SPY\", action='SELL', orderType=\"MKT\" , quant= 1, enforce=\"DAY\")"
   ]
  },
  {
   "cell_type": "code",
   "execution_count": null,
   "id": "762a0ae1",
   "metadata": {},
   "outputs": [],
   "source": [
    "# security = yf.Ticker(\"AAPL\")\n",
    "# data = security.history(period='1mo')\n",
    "\n",
    "# for i in range(len(data)):\n"
   ]
  },
  {
   "cell_type": "code",
   "execution_count": null,
   "id": "04e1e5e2",
   "metadata": {},
   "outputs": [],
   "source": []
  },
  {
   "cell_type": "code",
   "execution_count": null,
   "id": "34c11ff6",
   "metadata": {},
   "outputs": [],
   "source": [
    "import smtplib\n",
    "gmail_user = 'raullopez0402@gmail.com'\n",
    "gmail_password = 'Gypsy2002!'\n",
    "sent_from = gmail_user\n",
    "to = ['raullopez0402@gmail.com']\n",
    "subject = 'info CHF'"
   ]
  },
  {
   "cell_type": "code",
   "execution_count": null,
   "id": "88c8f3ff",
   "metadata": {},
   "outputs": [],
   "source": [
    "# for stock in stock_dict.keys():\n",
    "#     stock, curr = stock.split('-')\n",
    "#     stock = stock + curr\n",
    "#     try:\n",
    "#         df = account.get_bars_crypto(stock=f'{stock}', interval='m5', count=322, extendTrading=0, timeStamp=None)\n",
    "#         print(stock)\n",
    "#     except:\n",
    "#         continue"
   ]
  },
  {
   "cell_type": "code",
   "execution_count": 87,
   "id": "8b6ed59a-f523-486c-ba6f-e567c4c03b57",
   "metadata": {},
   "outputs": [],
   "source": [
    "temp = account.get_bars(stock=f'AAPL', interval='m5', count=322, extendTrading=0, timeStamp=None)\n",
    "# len(temp)"
   ]
  },
  {
   "cell_type": "code",
   "execution_count": 96,
   "id": "6de8d3a4-5948-40bb-b16c-27e60aa36757",
   "metadata": {},
   "outputs": [
    {
     "data": {
      "text/plain": [
       "1000000"
      ]
     },
     "execution_count": 96,
     "metadata": {},
     "output_type": "execute_result"
    }
   ],
   "source": [
    "# temp = account.get_account()['netLiquidation']\n",
    "\n",
    "# temp['netLiquidation']\n",
    "\n",
    "temp = account.get_account()['netLiquidation']\n",
    "\n",
    "int(float(temp))"
   ]
  },
  {
   "cell_type": "code",
   "execution_count": 101,
   "id": "123830f3",
   "metadata": {},
   "outputs": [],
   "source": [
    "\n",
    "def some_job():\n",
    "    for stock in stock_dict.keys():\n",
    "        modelPrediction = 0\n",
    "        try:\n",
    "            df = account.get_bars(stock=f'{stock}', interval='m5', count=322, extendTrading=0, timeStamp=None)\n",
    "        except:\n",
    "            continue\n",
    "    \n",
    "        high = list(df['high'])\n",
    "        low = list(df[\"low\"])\n",
    "        close = list(df[\"close\"])\n",
    "        open = list(df[\"open\"])\n",
    "        volume = list(df[\"volume\"])\n",
    "\n",
    "        dfstream = pd.DataFrame(columns=['Volume','Open','Close','High','Low'])\n",
    "        i = 0\n",
    "        for i in range(len(df)):\n",
    "            dfstream.loc[i, ['Volume']] = float(str(volume[i]))\n",
    "            dfstream.loc[i, ['Open']] = float(str(open[i]))\n",
    "            dfstream.loc[i, ['Close']] = float(str(close[i]))\n",
    "            dfstream.loc[i, ['High']] = float(str(high[i]))\n",
    "            dfstream.loc[i, ['Low']] = float(str(low[i]))\n",
    "            i=i+1\n",
    "\n",
    "        dfstream['Volume'] = dfstream['Volume'].astype(float)\n",
    "        dfstream['Open'] = dfstream['Open'].astype(float)\n",
    "        dfstream['Close'] = dfstream['Close'].astype(float)\n",
    "        dfstream['High'] = dfstream['High'].astype(float)\n",
    "        dfstream['Low'] = dfstream['Low'].astype(float)\n",
    "\n",
    "        dfstream['ATR'] = dfstream.ta.atr(length=20)\n",
    "        dfstream['RSI'] = dfstream.ta.rsi()\n",
    "        dfstream['Average'] = dfstream.ta.midprice(length=1)\n",
    "        dfstream['MA40'] = dfstream['Open'].rolling(window=40).mean()\n",
    "        dfstream['MA80'] = dfstream['Open'].rolling(window=80).mean()\n",
    "        dfstream['MA160'] = dfstream['Open'].rolling(window=160).mean()\n",
    "\n",
    "        backrollingN = 5\n",
    "\n",
    "        dfstream['MA40Slope'] = dfstream['MA40'].rolling(window = backrollingN).apply(get_slope, raw=True)\n",
    "        dfstream['MA80Slope'] = dfstream['MA80'].rolling(window = backrollingN).apply(get_slope, raw=True)\n",
    "        dfstream['MA160Slope'] = dfstream['MA160'].rolling(window = backrollingN).apply(get_slope, raw=True)\n",
    "        dfstream['AverageSlope'] = dfstream['Average'].rolling(window = backrollingN).apply(get_slope, raw=True)\n",
    "        dfstream['RSISlope'] = dfstream['RSI'].rolling(window = backrollingN).apply(get_slope, raw=True)\n",
    "\n",
    "        X_stream = dfstream.iloc[[-1]]\n",
    "\n",
    "        attributes=['Volume', 'ATR', 'RSI', 'Average', 'MA40', 'MA80', 'MA160', 'MA40Slope', 'MA80Slope', 'MA160Slope', 'AverageSlope', 'RSISlope']\n",
    "        X_model = X_stream[attributes]\n",
    "        \n",
    "        # Apply the model for predictions\n",
    "        ModelPrediction = loaded_model.predict(X_model)\n",
    "        \n",
    "        TPbuy = float(open[i - 1]) * 1.03\n",
    "        SLbuy = float(open[i - 1]) * 0.99\n",
    "        TPSell = float(open[i - 1]) * 0.97\n",
    "        SLSell = float(open[i - 1]) * 1.01\n",
    "        quant = int(float(account.get_account()['netLiquidation'])) * .01\n",
    "        \n",
    "        #Sell\n",
    "        if ModelPrediction == 1:\n",
    "            print(\"Sell\")\n",
    "            # Place Order\n",
    "            account.place_order(stock=security, tId=None, action='SELL', orderType='MKT', enforce='DAY', quant=quant, outsideRegularTradingHour=True)\n",
    "            # Set Stop Loss\n",
    "            account.place_order(stock=security, tId=None, price=SLSell, action='BUY', orderType='LMT', enforce='DAY', quant=quant, outsideRegularTradingHour=True)\n",
    "            # Set Take Profit\n",
    "            account.place_order(stock=security, tId=None, price=TPSell, action='BUY', orderType='LMT', enforce='DAY', quant=quant, outsideRegularTradingHour=True)\n",
    "\n",
    "        #Buy\n",
    "        elif ModelPrediction == 2:\n",
    "            print(\"Buy\")\n",
    "            # Place Order\n",
    "            account.place_order(stock=security, tId=None, action='BUY', orderType='MKT', enforce='DAY', quant=quant, outsideRegularTradingHour=True)\n",
    "            # Set Stop Loss\n",
    "            account.place_order(stock=security, tId=None, price=SLBuy, action='SELL', orderType='LMT', enforce='DAY', quant=quant, outsideRegularTradingHour=True)\n",
    "            # Set Take Profit\n",
    "            account.place_order(stock=security, tId=None, price=TPBuy, action='SELL', orderType='LMT', enforce='DAY', quant=quant, outsideRegularTradingHour=True)\n"
   ]
  },
  {
   "cell_type": "code",
   "execution_count": 102,
   "id": "6c878ee9",
   "metadata": {},
   "outputs": [],
   "source": [
    "# pip install apscheduler"
   ]
  },
  {
   "cell_type": "code",
   "execution_count": 103,
   "id": "1a84c4ac",
   "metadata": {},
   "outputs": [],
   "source": [
    "# scheduler.running()"
   ]
  },
  {
   "cell_type": "code",
   "execution_count": 104,
   "id": "7e646113",
   "metadata": {},
   "outputs": [
    {
     "name": "stderr",
     "output_type": "stream",
     "text": [
      "Job \"some_job (trigger: interval[0:00:30], next run at: 2024-01-05 11:08:46 PST)\" raised an exception\n",
      "Traceback (most recent call last):\n",
      "  File \"/Users/raullopez/miniconda3/lib/python3.11/site-packages/apscheduler/executors/base.py\", line 125, in run_job\n",
      "    retval = job.func(*job.args, **job.kwargs)\n",
      "             ^^^^^^^^^^^^^^^^^^^^^^^^^^^^^^^^^\n",
      "  File \"/var/folders/nc/yrscg8z12gg8byvf1x104k980000gn/T/ipykernel_99943/1839156157.py\", line 64, in some_job\n",
      "    account.place_order(stock=security, tId=None, action='SELL', orderType='MKT', enforce='DAY', quant=quant, outsideRegularTradingHour=True)\n",
      "  File \"/Users/raullopez/miniconda3/lib/python3.11/site-packages/webull/webull.py\", line 1463, in place_order\n",
      "    tId = self.get_ticker(stock)\n",
      "          ^^^^^^^^^^^^^^^^^^^^^^\n",
      "  File \"/Users/raullopez/miniconda3/lib/python3.11/site-packages/webull/webull.py\", line 410, in get_ticker\n",
      "    if stock and isinstance(stock, str):\n",
      "  File \"/Users/raullopez/miniconda3/lib/python3.11/site-packages/pandas/core/generic.py\", line 1519, in __nonzero__\n",
      "    raise ValueError(\n",
      "ValueError: The truth value of a DataFrame is ambiguous. Use a.empty, a.bool(), a.item(), a.any() or a.all().\n"
     ]
    },
    {
     "name": "stdout",
     "output_type": "stream",
     "text": [
      "Sell\n"
     ]
    },
    {
     "name": "stderr",
     "output_type": "stream",
     "text": [
      "Job \"some_job (trigger: interval[0:00:30], next run at: 2024-01-05 11:09:16 PST)\" raised an exception\n",
      "Traceback (most recent call last):\n",
      "  File \"/Users/raullopez/miniconda3/lib/python3.11/site-packages/apscheduler/executors/base.py\", line 125, in run_job\n",
      "    retval = job.func(*job.args, **job.kwargs)\n",
      "             ^^^^^^^^^^^^^^^^^^^^^^^^^^^^^^^^^\n",
      "  File \"/var/folders/nc/yrscg8z12gg8byvf1x104k980000gn/T/ipykernel_99943/1839156157.py\", line 64, in some_job\n",
      "    account.place_order(stock=security, tId=None, action='SELL', orderType='MKT', enforce='DAY', quant=quant, outsideRegularTradingHour=True)\n",
      "  File \"/Users/raullopez/miniconda3/lib/python3.11/site-packages/webull/webull.py\", line 1463, in place_order\n",
      "    tId = self.get_ticker(stock)\n",
      "          ^^^^^^^^^^^^^^^^^^^^^^\n",
      "  File \"/Users/raullopez/miniconda3/lib/python3.11/site-packages/webull/webull.py\", line 410, in get_ticker\n",
      "    if stock and isinstance(stock, str):\n",
      "  File \"/Users/raullopez/miniconda3/lib/python3.11/site-packages/pandas/core/generic.py\", line 1519, in __nonzero__\n",
      "    raise ValueError(\n",
      "ValueError: The truth value of a DataFrame is ambiguous. Use a.empty, a.bool(), a.item(), a.any() or a.all().\n"
     ]
    },
    {
     "name": "stdout",
     "output_type": "stream",
     "text": [
      "Sell\n"
     ]
    },
    {
     "name": "stderr",
     "output_type": "stream",
     "text": [
      "Job \"some_job (trigger: interval[0:00:30], next run at: 2024-01-05 11:09:46 PST)\" raised an exception\n",
      "Traceback (most recent call last):\n",
      "  File \"/Users/raullopez/miniconda3/lib/python3.11/site-packages/apscheduler/executors/base.py\", line 125, in run_job\n",
      "    retval = job.func(*job.args, **job.kwargs)\n",
      "             ^^^^^^^^^^^^^^^^^^^^^^^^^^^^^^^^^\n",
      "  File \"/var/folders/nc/yrscg8z12gg8byvf1x104k980000gn/T/ipykernel_99943/1839156157.py\", line 64, in some_job\n",
      "    account.place_order(stock=security, tId=None, action='SELL', orderType='MKT', enforce='DAY', quant=quant, outsideRegularTradingHour=True)\n",
      "  File \"/Users/raullopez/miniconda3/lib/python3.11/site-packages/webull/webull.py\", line 1463, in place_order\n",
      "    tId = self.get_ticker(stock)\n",
      "          ^^^^^^^^^^^^^^^^^^^^^^\n",
      "  File \"/Users/raullopez/miniconda3/lib/python3.11/site-packages/webull/webull.py\", line 410, in get_ticker\n",
      "    if stock and isinstance(stock, str):\n",
      "  File \"/Users/raullopez/miniconda3/lib/python3.11/site-packages/pandas/core/generic.py\", line 1519, in __nonzero__\n",
      "    raise ValueError(\n",
      "ValueError: The truth value of a DataFrame is ambiguous. Use a.empty, a.bool(), a.item(), a.any() or a.all().\n"
     ]
    },
    {
     "name": "stdout",
     "output_type": "stream",
     "text": [
      "Sell\n"
     ]
    },
    {
     "name": "stderr",
     "output_type": "stream",
     "text": [
      "Job \"some_job (trigger: interval[0:00:30], next run at: 2024-01-05 11:10:16 PST)\" raised an exception\n",
      "Traceback (most recent call last):\n",
      "  File \"/Users/raullopez/miniconda3/lib/python3.11/site-packages/apscheduler/executors/base.py\", line 125, in run_job\n",
      "    retval = job.func(*job.args, **job.kwargs)\n",
      "             ^^^^^^^^^^^^^^^^^^^^^^^^^^^^^^^^^\n",
      "  File \"/var/folders/nc/yrscg8z12gg8byvf1x104k980000gn/T/ipykernel_99943/1839156157.py\", line 64, in some_job\n",
      "    account.place_order(stock=security, tId=None, action='SELL', orderType='MKT', enforce='DAY', quant=quant, outsideRegularTradingHour=True)\n",
      "  File \"/Users/raullopez/miniconda3/lib/python3.11/site-packages/webull/webull.py\", line 1463, in place_order\n",
      "    tId = self.get_ticker(stock)\n",
      "          ^^^^^^^^^^^^^^^^^^^^^^\n",
      "  File \"/Users/raullopez/miniconda3/lib/python3.11/site-packages/webull/webull.py\", line 410, in get_ticker\n",
      "    if stock and isinstance(stock, str):\n",
      "  File \"/Users/raullopez/miniconda3/lib/python3.11/site-packages/pandas/core/generic.py\", line 1519, in __nonzero__\n",
      "    raise ValueError(\n",
      "ValueError: The truth value of a DataFrame is ambiguous. Use a.empty, a.bool(), a.item(), a.any() or a.all().\n"
     ]
    },
    {
     "name": "stdout",
     "output_type": "stream",
     "text": [
      "Sell\n"
     ]
    },
    {
     "name": "stderr",
     "output_type": "stream",
     "text": [
      "Job \"some_job (trigger: interval[0:00:30], next run at: 2024-01-05 11:10:46 PST)\" raised an exception\n",
      "Traceback (most recent call last):\n",
      "  File \"/Users/raullopez/miniconda3/lib/python3.11/site-packages/apscheduler/executors/base.py\", line 125, in run_job\n",
      "    retval = job.func(*job.args, **job.kwargs)\n",
      "             ^^^^^^^^^^^^^^^^^^^^^^^^^^^^^^^^^\n",
      "  File \"/var/folders/nc/yrscg8z12gg8byvf1x104k980000gn/T/ipykernel_99943/1839156157.py\", line 64, in some_job\n",
      "    account.place_order(stock=security, tId=None, action='SELL', orderType='MKT', enforce='DAY', quant=quant, outsideRegularTradingHour=True)\n",
      "  File \"/Users/raullopez/miniconda3/lib/python3.11/site-packages/webull/webull.py\", line 1463, in place_order\n",
      "    tId = self.get_ticker(stock)\n",
      "          ^^^^^^^^^^^^^^^^^^^^^^\n",
      "  File \"/Users/raullopez/miniconda3/lib/python3.11/site-packages/webull/webull.py\", line 410, in get_ticker\n",
      "    if stock and isinstance(stock, str):\n",
      "  File \"/Users/raullopez/miniconda3/lib/python3.11/site-packages/pandas/core/generic.py\", line 1519, in __nonzero__\n",
      "    raise ValueError(\n",
      "ValueError: The truth value of a DataFrame is ambiguous. Use a.empty, a.bool(), a.item(), a.any() or a.all().\n"
     ]
    },
    {
     "name": "stdout",
     "output_type": "stream",
     "text": [
      "Sell\n"
     ]
    },
    {
     "name": "stderr",
     "output_type": "stream",
     "text": [
      "Job \"some_job (trigger: interval[0:00:30], next run at: 2024-01-05 11:11:16 PST)\" raised an exception\n",
      "Traceback (most recent call last):\n",
      "  File \"/Users/raullopez/miniconda3/lib/python3.11/site-packages/apscheduler/executors/base.py\", line 125, in run_job\n",
      "    retval = job.func(*job.args, **job.kwargs)\n",
      "             ^^^^^^^^^^^^^^^^^^^^^^^^^^^^^^^^^\n",
      "  File \"/var/folders/nc/yrscg8z12gg8byvf1x104k980000gn/T/ipykernel_99943/1839156157.py\", line 64, in some_job\n",
      "    account.place_order(stock=security, tId=None, action='SELL', orderType='MKT', enforce='DAY', quant=quant, outsideRegularTradingHour=True)\n",
      "  File \"/Users/raullopez/miniconda3/lib/python3.11/site-packages/webull/webull.py\", line 1463, in place_order\n",
      "    tId = self.get_ticker(stock)\n",
      "          ^^^^^^^^^^^^^^^^^^^^^^\n",
      "  File \"/Users/raullopez/miniconda3/lib/python3.11/site-packages/webull/webull.py\", line 410, in get_ticker\n",
      "    if stock and isinstance(stock, str):\n",
      "  File \"/Users/raullopez/miniconda3/lib/python3.11/site-packages/pandas/core/generic.py\", line 1519, in __nonzero__\n",
      "    raise ValueError(\n",
      "ValueError: The truth value of a DataFrame is ambiguous. Use a.empty, a.bool(), a.item(), a.any() or a.all().\n"
     ]
    },
    {
     "name": "stdout",
     "output_type": "stream",
     "text": [
      "Sell\n"
     ]
    },
    {
     "name": "stderr",
     "output_type": "stream",
     "text": [
      "Job \"some_job (trigger: interval[0:00:30], next run at: 2024-01-05 11:11:46 PST)\" raised an exception\n",
      "Traceback (most recent call last):\n",
      "  File \"/Users/raullopez/miniconda3/lib/python3.11/site-packages/apscheduler/executors/base.py\", line 125, in run_job\n",
      "    retval = job.func(*job.args, **job.kwargs)\n",
      "             ^^^^^^^^^^^^^^^^^^^^^^^^^^^^^^^^^\n",
      "  File \"/var/folders/nc/yrscg8z12gg8byvf1x104k980000gn/T/ipykernel_99943/1839156157.py\", line 64, in some_job\n",
      "    account.place_order(stock=security, tId=None, action='SELL', orderType='MKT', enforce='DAY', quant=quant, outsideRegularTradingHour=True)\n",
      "  File \"/Users/raullopez/miniconda3/lib/python3.11/site-packages/webull/webull.py\", line 1463, in place_order\n",
      "    tId = self.get_ticker(stock)\n",
      "          ^^^^^^^^^^^^^^^^^^^^^^\n",
      "  File \"/Users/raullopez/miniconda3/lib/python3.11/site-packages/webull/webull.py\", line 410, in get_ticker\n",
      "    if stock and isinstance(stock, str):\n",
      "  File \"/Users/raullopez/miniconda3/lib/python3.11/site-packages/pandas/core/generic.py\", line 1519, in __nonzero__\n",
      "    raise ValueError(\n",
      "ValueError: The truth value of a DataFrame is ambiguous. Use a.empty, a.bool(), a.item(), a.any() or a.all().\n"
     ]
    },
    {
     "name": "stdout",
     "output_type": "stream",
     "text": [
      "Sell\n"
     ]
    },
    {
     "name": "stderr",
     "output_type": "stream",
     "text": [
      "Job \"some_job (trigger: interval[0:00:30], next run at: 2024-01-05 11:12:16 PST)\" raised an exception\n",
      "Traceback (most recent call last):\n",
      "  File \"/Users/raullopez/miniconda3/lib/python3.11/site-packages/apscheduler/executors/base.py\", line 125, in run_job\n",
      "    retval = job.func(*job.args, **job.kwargs)\n",
      "             ^^^^^^^^^^^^^^^^^^^^^^^^^^^^^^^^^\n",
      "  File \"/var/folders/nc/yrscg8z12gg8byvf1x104k980000gn/T/ipykernel_99943/1839156157.py\", line 64, in some_job\n",
      "    account.place_order(stock=security, tId=None, action='SELL', orderType='MKT', enforce='DAY', quant=quant, outsideRegularTradingHour=True)\n",
      "  File \"/Users/raullopez/miniconda3/lib/python3.11/site-packages/webull/webull.py\", line 1463, in place_order\n",
      "    tId = self.get_ticker(stock)\n",
      "          ^^^^^^^^^^^^^^^^^^^^^^\n",
      "  File \"/Users/raullopez/miniconda3/lib/python3.11/site-packages/webull/webull.py\", line 410, in get_ticker\n",
      "    if stock and isinstance(stock, str):\n",
      "  File \"/Users/raullopez/miniconda3/lib/python3.11/site-packages/pandas/core/generic.py\", line 1519, in __nonzero__\n",
      "    raise ValueError(\n",
      "ValueError: The truth value of a DataFrame is ambiguous. Use a.empty, a.bool(), a.item(), a.any() or a.all().\n"
     ]
    },
    {
     "name": "stdout",
     "output_type": "stream",
     "text": [
      "Sell\n"
     ]
    },
    {
     "name": "stderr",
     "output_type": "stream",
     "text": [
      "Job \"some_job (trigger: interval[0:00:30], next run at: 2024-01-05 11:12:46 PST)\" raised an exception\n",
      "Traceback (most recent call last):\n",
      "  File \"/Users/raullopez/miniconda3/lib/python3.11/site-packages/apscheduler/executors/base.py\", line 125, in run_job\n",
      "    retval = job.func(*job.args, **job.kwargs)\n",
      "             ^^^^^^^^^^^^^^^^^^^^^^^^^^^^^^^^^\n",
      "  File \"/var/folders/nc/yrscg8z12gg8byvf1x104k980000gn/T/ipykernel_99943/1839156157.py\", line 64, in some_job\n",
      "    account.place_order(stock=security, tId=None, action='SELL', orderType='MKT', enforce='DAY', quant=quant, outsideRegularTradingHour=True)\n",
      "  File \"/Users/raullopez/miniconda3/lib/python3.11/site-packages/webull/webull.py\", line 1463, in place_order\n",
      "    tId = self.get_ticker(stock)\n",
      "          ^^^^^^^^^^^^^^^^^^^^^^\n",
      "  File \"/Users/raullopez/miniconda3/lib/python3.11/site-packages/webull/webull.py\", line 410, in get_ticker\n",
      "    if stock and isinstance(stock, str):\n",
      "  File \"/Users/raullopez/miniconda3/lib/python3.11/site-packages/pandas/core/generic.py\", line 1519, in __nonzero__\n",
      "    raise ValueError(\n",
      "ValueError: The truth value of a DataFrame is ambiguous. Use a.empty, a.bool(), a.item(), a.any() or a.all().\n"
     ]
    },
    {
     "name": "stdout",
     "output_type": "stream",
     "text": [
      "Sell\n"
     ]
    },
    {
     "ename": "KeyboardInterrupt",
     "evalue": "",
     "output_type": "error",
     "traceback": [
      "\u001b[0;31m---------------------------------------------------------------------------\u001b[0m",
      "\u001b[0;31mKeyboardInterrupt\u001b[0m                         Traceback (most recent call last)",
      "Cell \u001b[0;32mIn[104], line 10\u001b[0m\n\u001b[1;32m      7\u001b[0m \u001b[38;5;66;03m# scheduler = BlockingScheduler()\u001b[39;00m\n\u001b[1;32m      8\u001b[0m \u001b[38;5;66;03m# scheduler.add_job(some_job, 'cron', day_of_week='mon-fri', minute=1, jitter=120, timezone='America/New_York')\u001b[39;00m\n\u001b[1;32m      9\u001b[0m scheduler\u001b[38;5;241m.\u001b[39madd_job(some_job, \u001b[38;5;124m'\u001b[39m\u001b[38;5;124minterval\u001b[39m\u001b[38;5;124m'\u001b[39m, seconds\u001b[38;5;241m=\u001b[39m\u001b[38;5;241m30\u001b[39m)\n\u001b[0;32m---> 10\u001b[0m \u001b[43mscheduler\u001b[49m\u001b[38;5;241;43m.\u001b[39;49m\u001b[43mstart\u001b[49m\u001b[43m(\u001b[49m\u001b[43m)\u001b[49m\n",
      "File \u001b[0;32m~/miniconda3/lib/python3.11/site-packages/apscheduler/schedulers/blocking.py:21\u001b[0m, in \u001b[0;36mBlockingScheduler.start\u001b[0;34m(self, *args, **kwargs)\u001b[0m\n\u001b[1;32m     18\u001b[0m     \u001b[38;5;28mself\u001b[39m\u001b[38;5;241m.\u001b[39m_event \u001b[38;5;241m=\u001b[39m Event()\n\u001b[1;32m     20\u001b[0m \u001b[38;5;28msuper\u001b[39m(BlockingScheduler, \u001b[38;5;28mself\u001b[39m)\u001b[38;5;241m.\u001b[39mstart(\u001b[38;5;241m*\u001b[39margs, \u001b[38;5;241m*\u001b[39m\u001b[38;5;241m*\u001b[39mkwargs)\n\u001b[0;32m---> 21\u001b[0m \u001b[38;5;28;43mself\u001b[39;49m\u001b[38;5;241;43m.\u001b[39;49m\u001b[43m_main_loop\u001b[49m\u001b[43m(\u001b[49m\u001b[43m)\u001b[49m\n",
      "File \u001b[0;32m~/miniconda3/lib/python3.11/site-packages/apscheduler/schedulers/blocking.py:30\u001b[0m, in \u001b[0;36mBlockingScheduler._main_loop\u001b[0;34m(self)\u001b[0m\n\u001b[1;32m     28\u001b[0m wait_seconds \u001b[38;5;241m=\u001b[39m TIMEOUT_MAX\n\u001b[1;32m     29\u001b[0m \u001b[38;5;28;01mwhile\u001b[39;00m \u001b[38;5;28mself\u001b[39m\u001b[38;5;241m.\u001b[39mstate \u001b[38;5;241m!=\u001b[39m STATE_STOPPED:\n\u001b[0;32m---> 30\u001b[0m     \u001b[38;5;28;43mself\u001b[39;49m\u001b[38;5;241;43m.\u001b[39;49m\u001b[43m_event\u001b[49m\u001b[38;5;241;43m.\u001b[39;49m\u001b[43mwait\u001b[49m\u001b[43m(\u001b[49m\u001b[43mwait_seconds\u001b[49m\u001b[43m)\u001b[49m\n\u001b[1;32m     31\u001b[0m     \u001b[38;5;28mself\u001b[39m\u001b[38;5;241m.\u001b[39m_event\u001b[38;5;241m.\u001b[39mclear()\n\u001b[1;32m     32\u001b[0m     wait_seconds \u001b[38;5;241m=\u001b[39m \u001b[38;5;28mself\u001b[39m\u001b[38;5;241m.\u001b[39m_process_jobs()\n",
      "File \u001b[0;32m~/miniconda3/lib/python3.11/threading.py:622\u001b[0m, in \u001b[0;36mEvent.wait\u001b[0;34m(self, timeout)\u001b[0m\n\u001b[1;32m    620\u001b[0m signaled \u001b[38;5;241m=\u001b[39m \u001b[38;5;28mself\u001b[39m\u001b[38;5;241m.\u001b[39m_flag\n\u001b[1;32m    621\u001b[0m \u001b[38;5;28;01mif\u001b[39;00m \u001b[38;5;129;01mnot\u001b[39;00m signaled:\n\u001b[0;32m--> 622\u001b[0m     signaled \u001b[38;5;241m=\u001b[39m \u001b[38;5;28;43mself\u001b[39;49m\u001b[38;5;241;43m.\u001b[39;49m\u001b[43m_cond\u001b[49m\u001b[38;5;241;43m.\u001b[39;49m\u001b[43mwait\u001b[49m\u001b[43m(\u001b[49m\u001b[43mtimeout\u001b[49m\u001b[43m)\u001b[49m\n\u001b[1;32m    623\u001b[0m \u001b[38;5;28;01mreturn\u001b[39;00m signaled\n",
      "File \u001b[0;32m~/miniconda3/lib/python3.11/threading.py:324\u001b[0m, in \u001b[0;36mCondition.wait\u001b[0;34m(self, timeout)\u001b[0m\n\u001b[1;32m    322\u001b[0m \u001b[38;5;28;01melse\u001b[39;00m:\n\u001b[1;32m    323\u001b[0m     \u001b[38;5;28;01mif\u001b[39;00m timeout \u001b[38;5;241m>\u001b[39m \u001b[38;5;241m0\u001b[39m:\n\u001b[0;32m--> 324\u001b[0m         gotit \u001b[38;5;241m=\u001b[39m \u001b[43mwaiter\u001b[49m\u001b[38;5;241;43m.\u001b[39;49m\u001b[43macquire\u001b[49m\u001b[43m(\u001b[49m\u001b[38;5;28;43;01mTrue\u001b[39;49;00m\u001b[43m,\u001b[49m\u001b[43m \u001b[49m\u001b[43mtimeout\u001b[49m\u001b[43m)\u001b[49m\n\u001b[1;32m    325\u001b[0m     \u001b[38;5;28;01melse\u001b[39;00m:\n\u001b[1;32m    326\u001b[0m         gotit \u001b[38;5;241m=\u001b[39m waiter\u001b[38;5;241m.\u001b[39macquire(\u001b[38;5;28;01mFalse\u001b[39;00m)\n",
      "\u001b[0;31mKeyboardInterrupt\u001b[0m: "
     ]
    }
   ],
   "source": [
    "from apscheduler.schedulers.blocking import BlockingScheduler\n",
    "# job_defaults={'max_instances': 2}\n",
    "scheduler = BlockingScheduler(job_defaults={\n",
    "    'misfire_grace_time': 15*60,\n",
    "    'max_instances': 100\n",
    "})\n",
    "# scheduler = BlockingScheduler()\n",
    "# scheduler.add_job(some_job, 'cron', day_of_week='mon-fri', minute=1, jitter=120, timezone='America/New_York')\n",
    "scheduler.add_job(some_job, 'interval', seconds=30)\n",
    "scheduler.start()"
   ]
  },
  {
   "cell_type": "code",
   "execution_count": null,
   "id": "6a090781-9e6c-4110-8d7e-1fd674929207",
   "metadata": {},
   "outputs": [],
   "source": []
  }
 ],
 "metadata": {
  "kernelspec": {
   "display_name": "Python 3 (ipykernel)",
   "language": "python",
   "name": "python3"
  },
  "language_info": {
   "codemirror_mode": {
    "name": "ipython",
    "version": 3
   },
   "file_extension": ".py",
   "mimetype": "text/x-python",
   "name": "python",
   "nbconvert_exporter": "python",
   "pygments_lexer": "ipython3",
   "version": "3.11.5"
  }
 },
 "nbformat": 4,
 "nbformat_minor": 5
}
